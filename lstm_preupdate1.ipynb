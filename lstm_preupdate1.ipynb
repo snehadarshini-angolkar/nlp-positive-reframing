{
  "nbformat": 4,
  "nbformat_minor": 0,
  "metadata": {
    "colab": {
      "provenance": [],
      "gpuType": "T4",
      "toc_visible": true
    },
    "kernelspec": {
      "name": "python3",
      "display_name": "Python 3"
    },
    "language_info": {
      "name": "python"
    },
    "accelerator": "GPU"
  },
  "cells": [
    {
      "cell_type": "markdown",
      "source": [
        "# New Section"
      ],
      "metadata": {
        "id": "L1ky83az1Veg"
      }
    },
    {
      "cell_type": "code",
      "source": [
        "import pandas as pd\n",
        "import sys\n",
        "import numpy as np\n",
        "from matplotlib import pyplot as plot\n",
        "from sklearn.model_selection import train_test_split\n",
        "from keras.preprocessing.text import Tokenizer\n",
        "from keras.preprocessing.sequence import pad_sequences\n",
        "\n",
        "\n",
        "\n",
        "\n"
      ],
      "metadata": {
        "id": "-ErJ1vPX2NeR"
      },
      "execution_count": null,
      "outputs": []
    },
    {
      "cell_type": "code",
      "source": [
        "from tensorflow.keras.layers import Input, LSTM, Embedding, Dense, Concatenate, TimeDistributed, Attention"
      ],
      "metadata": {
        "id": "E6_yzj_nlWex"
      },
      "execution_count": null,
      "outputs": []
    },
    {
      "cell_type": "code",
      "execution_count": null,
      "metadata": {
        "id": "_KkYvLap1PQ2",
        "colab": {
          "base_uri": "https://localhost:8080/"
        },
        "outputId": "04419b8c-6bea-4655-975a-6d821df72f87"
      },
      "outputs": [
        {
          "output_type": "stream",
          "name": "stdout",
          "text": [
            "Mounted at /content/drive\n"
          ]
        }
      ],
      "source": [
        "from google.colab import drive\n",
        "drive.mount(\"/content/drive\")"
      ]
    },
    {
      "cell_type": "code",
      "source": [],
      "metadata": {
        "id": "3HLxG2GK5hb8"
      },
      "execution_count": null,
      "outputs": []
    },
    {
      "cell_type": "code",
      "source": [
        "df = pd.read_csv(\"/content/drive/MyDrive/for_train.txt\", sep=\"\\t\", header=None, names=[\"text\", \"rephrase\"])\n",
        "print(df.head())"
      ],
      "metadata": {
        "colab": {
          "base_uri": "https://localhost:8080/"
        },
        "id": "TJz_hpWO2TJS",
        "outputId": "37cac53b-0b57-4344-a17b-c35e248bd577"
      },
      "execution_count": null,
      "outputs": [
        {
          "output_type": "stream",
          "name": "stdout",
          "text": [
            "                                                text  \\\n",
            "0  You may be stressed out, but your body doesn't...   \n",
            "1  Arghhh can't stand when tan goes patchy then i...   \n",
            "2  M4&M49 were bloody horrendous. Finally found m...   \n",
            "3  Life is just hard and harder when difficult pe...   \n",
            "4  I realize you're all trying to help me, but it...   \n",
            "\n",
            "                                            rephrase  \n",
            "0  I will be able to go through stress because I ...  \n",
            "1  Tanning can sometimes have unexpected results ...  \n",
            "2  Even though I am facing a hard time at least I...  \n",
            "3  Keep difficult people out of your life or you'...  \n",
            "4  I am happy to have people who care about me an...  \n"
          ]
        }
      ]
    },
    {
      "cell_type": "code",
      "source": [],
      "metadata": {
        "id": "FXvwYRto-95X"
      },
      "execution_count": null,
      "outputs": []
    },
    {
      "cell_type": "code",
      "source": [
        "\n",
        "def text_count():\n",
        "    x_vocab = list()\n",
        "    y_vocab = list()\n",
        "    text_sent_length = []\n",
        "    rephrase_sent_length = []\n",
        "    x_word_set = []\n",
        "    y_word_set = []\n",
        "    for i in df['text']:\n",
        "        text_sent_length.append(len(i.split()))\n",
        "        x_word_set.append(i.split())\n",
        "    for j in df['rephrase']:\n",
        "        rephrase_sent_length.append(len(j.split()))\n",
        "        y_word_set.append(j.split())\n",
        "    #text_sent_length.hist()\n",
        "    temp_df = pd.DataFrame({'text_length': text_sent_length, 'rephrase_length': rephrase_sent_length})\n",
        "    temp_df.hist()\n",
        "    plot.show()\n",
        "\n",
        "    x_vocab = pd.Series(x_word_set).drop_duplicates().tolist()\n",
        "    y_vocab = pd.Series(y_word_set).drop_duplicates().tolist()\n",
        "    return x_vocab, y_vocab\n",
        "\n",
        "x_vocab, y_vocab = text_count()\n"
      ],
      "metadata": {
        "colab": {
          "base_uri": "https://localhost:8080/",
          "height": 452
        },
        "id": "hoMmLnpF2TSY",
        "outputId": "5565ac41-15a3-46ca-d1a8-349a3f11b679"
      },
      "execution_count": null,
      "outputs": [
        {
          "output_type": "display_data",
          "data": {
            "text/plain": [
              "<Figure size 640x480 with 2 Axes>"
            ],
            "image/png": "[encoded data removed]"
          },
          "metadata": {}
        }
      ]
    },
    {
      "cell_type": "code",
      "source": [
        "len(df)\n",
        "\n",
        "max_text_length = 30\n",
        "max_rephrase_length = 30"
      ],
      "metadata": {
        "id": "ZU04O0ls9QUb"
      },
      "execution_count": null,
      "outputs": []
    },
    {
      "cell_type": "code",
      "source": [
        "def extract_subset():\n",
        "    final_text = []\n",
        "    final_rephrase = []\n",
        "\n",
        "    for i in range(len(df)):\n",
        "        if(len(df[\"text\"][i].split())<=max_text_length and len(df[\"rephrase\"][i].split())<=max_rephrase_length):\n",
        "            final_text.append(df[\"text\"][i])\n",
        "            final_rephrase.append(df[\"rephrase\"][i])\n",
        "    final_df = pd.DataFrame({\"text\": final_text, \"rephrase\": final_rephrase})\n",
        "    return final_df;\n"
      ],
      "metadata": {
        "id": "WqLCI4gP2TVb"
      },
      "execution_count": null,
      "outputs": []
    },
    {
      "cell_type": "code",
      "source": [
        "df = extract_subset()\n",
        "\n",
        "def appendTokens(df):\n",
        "   df['rephrase'] = df['rephrase'].apply(lambda x : '<RBEGIN> '+ x + ' <REND>')\n",
        "   return df\n",
        "df = appendTokens(df)\n",
        "print(df.head())"
      ],
      "metadata": {
        "id": "xVqIgXPT8wBg",
        "colab": {
          "base_uri": "https://localhost:8080/"
        },
        "outputId": "ae6228ca-eba6-4e86-e0bd-11ece85f8ff3"
      },
      "execution_count": null,
      "outputs": [
        {
          "output_type": "stream",
          "name": "stdout",
          "text": [
            "                                                text  \\\n",
            "0  You may be stressed out, but your body doesn't...   \n",
            "1  Arghhh can't stand when tan goes patchy then i...   \n",
            "2  M4&M49 were bloody horrendous. Finally found m...   \n",
            "3  Life is just hard and harder when difficult pe...   \n",
            "4  I realize you're all trying to help me, but it...   \n",
            "\n",
            "                                            rephrase  \n",
            "0  <RBEGIN> I will be able to go through stress b...  \n",
            "1  <RBEGIN> Tanning can sometimes have unexpected...  \n",
            "2  <RBEGIN> Even though I am facing a hard time a...  \n",
            "3  <RBEGIN> Keep difficult people out of your lif...  \n",
            "4  <RBEGIN> I am happy to have people who care ab...  \n"
          ]
        }
      ]
    },
    {
      "cell_type": "code",
      "source": [
        "\n",
        "\n",
        "\n",
        "y_vocabulary = 0\n",
        "x_vocabulary = 0\n",
        "x_train_pad_sequences = \"\"\n",
        "y_test_pad_sequences = \"\"\n",
        "x_train, x_test, y_train, y_test = train_test_split(df['text'], df['rephrase'],\n",
        "                                    test_size=0.2, random_state=42, shuffle=True)\n",
        "x_tokenizer = Tokenizer(num_words=len(x_vocab) )\n",
        "x_tokenizer.fit_on_texts(x_train)\n",
        "x_train_sequence = x_tokenizer.texts_to_sequences(x_train)\n",
        "x_test_sequence = x_tokenizer.texts_to_sequences(x_test)\n",
        "x_train_pad_sequences = pad_sequences(x_train_sequence, maxlen = max_text_length , padding='post')\n",
        "x_test_pad_sequences = pad_sequences(x_test_sequence, maxlen = max_text_length, padding='post')\n",
        "x_vocabulary = x_tokenizer.num_words + 1;\n",
        "\n",
        "# Rephrase tokenizer\n",
        "y_tokenizer = Tokenizer(num_words=len(y_vocab) )\n",
        "y_tokenizer.fit_on_texts(list(y_train))\n",
        "y_train_sequence = y_tokenizer.texts_to_sequences(y_train)\n",
        "y_test_sequence = y_tokenizer.texts_to_sequences(y_test)\n",
        "y_train_pad_sequences = pad_sequences(y_train_sequence, maxlen = max_rephrase_length , padding='post')\n",
        "y_test_pad_sequences = pad_sequences(y_test_sequence, maxlen = max_rephrase_length, padding='post')\n",
        "y_vocabulary = y_tokenizer.num_words + 1;\n",
        "    #return (x_vocabulary, y_vocabulary, x_train_pad_sequences, y_train_pad_sequences, x_test_pad_sequences, y_test_pad_sequences)\n",
        "\n"
      ],
      "metadata": {
        "id": "ZxrBh-V08wYK"
      },
      "execution_count": null,
      "outputs": []
    },
    {
      "cell_type": "code",
      "source": [
        "\n",
        "y_train = np.array(df[\"text\"])\n",
        "y_test = np.array(df['rephrase'])\n",
        "y_train[:, 1:]"
      ],
      "metadata": {
        "id": "jlz3tJtx2THb",
        "colab": {
          "base_uri": "https://localhost:8080/",
          "height": 208
        },
        "outputId": "40e35265-ab0f-4290-9a28-e54ea28aaeb7"
      },
      "execution_count": null,
      "outputs": [
        {
          "output_type": "error",
          "ename": "IndexError",
          "evalue": "ignored",
          "traceback": [
            "\u001b[0;31m---------------------------------------------------------------------------\u001b[0m",
            "\u001b[0;31mIndexError\u001b[0m                                Traceback (most recent call last)",
            "\u001b[0;32m<ipython-input-22-e4126f7b75b2>\u001b[0m in \u001b[0;36m<cell line: 3>\u001b[0;34m()\u001b[0m\n\u001b[1;32m      1\u001b[0m \u001b[0my_train\u001b[0m \u001b[0;34m=\u001b[0m \u001b[0mnp\u001b[0m\u001b[0;34m.\u001b[0m\u001b[0marray\u001b[0m\u001b[0;34m(\u001b[0m\u001b[0mdf\u001b[0m\u001b[0;34m[\u001b[0m\u001b[0;34m\"text\"\u001b[0m\u001b[0;34m]\u001b[0m\u001b[0;34m)\u001b[0m\u001b[0;34m\u001b[0m\u001b[0;34m\u001b[0m\u001b[0m\n\u001b[1;32m      2\u001b[0m \u001b[0my_test\u001b[0m \u001b[0;34m=\u001b[0m \u001b[0mnp\u001b[0m\u001b[0;34m.\u001b[0m\u001b[0marray\u001b[0m\u001b[0;34m(\u001b[0m\u001b[0mdf\u001b[0m\u001b[0;34m[\u001b[0m\u001b[0;34m'rephrase'\u001b[0m\u001b[0;34m]\u001b[0m\u001b[0;34m)\u001b[0m\u001b[0;34m\u001b[0m\u001b[0;34m\u001b[0m\u001b[0m\n\u001b[0;32m----> 3\u001b[0;31m \u001b[0my_train\u001b[0m\u001b[0;34m[\u001b[0m\u001b[0;34m:\u001b[0m\u001b[0;34m,\u001b[0m \u001b[0;36m1\u001b[0m\u001b[0;34m:\u001b[0m\u001b[0;34m]\u001b[0m\u001b[0;34m\u001b[0m\u001b[0;34m\u001b[0m\u001b[0m\n\u001b[0m",
            "\u001b[0;31mIndexError\u001b[0m: too many indices for array: array is 1-dimensional, but 2 were indexed"
          ]
        }
      ]
    },
    {
      "cell_type": "code",
      "source": [
        "y_train.reshape(y_train.shape[0], y_train.shape[1], 1)[:, 1:]"
      ],
      "metadata": {
        "id": "5EB99iyiB3gE"
      },
      "execution_count": null,
      "outputs": []
    },
    {
      "cell_type": "code",
      "source": [
        "from tensorflow.keras.models import Model\n"
      ],
      "metadata": {
        "id": "Yq9bBhpN7xcJ"
      },
      "execution_count": null,
      "outputs": []
    },
    {
      "cell_type": "code",
      "source": [
        "\n",
        "\n",
        "latent_dim = 200\n",
        "embedding_dim=300\n",
        "encoder_inputs = Input(shape=(max_text_length,))\n",
        "encoder_emb_layer =  Embedding(x_vocabulary, embedding_dim,trainable=True)(encoder_inputs)\n",
        "encoder_lstm1 = LSTM(latent_dim,return_sequences=True,return_state=True,dropout=0.1,recurrent_dropout=0.1)\n",
        "encoder_output1, h1, c1 = encoder_lstm1(encoder_emb_layer)\n",
        "encoder_lstm2 = LSTM(latent_dim,return_sequences=True,return_state=True,dropout=0.1,recurrent_dropout=0.1)\n",
        "encoder_outputs, h, c = encoder_lstm2(encoder_output1)\n",
        "# Decoders\n",
        "decoder_inputs = Input(shape=(None,))\n",
        "decoder_emb_layer = Embedding(y_vocabulary, embedding_dim,trainable=True)\n",
        "dec_emb = decoder_emb_layer(decoder_inputs)\n",
        "decoder_lstm = LSTM(latent_dim, return_sequences=True, return_state=True,dropout=0.1,recurrent_dropout=0.1)\n",
        "decoder_outputs,decoder_fwd_state, decoder_back_state = decoder_lstm(dec_emb,initial_state=[h, c])\n",
        "model = Model([encoder_inputs, decoder_inputs], decoder_outputs)\n",
        "decoder_dense =  TimeDistributed(Dense(y_vocabulary, activation='softmax'))\n",
        "decoder_outputs = decoder_dense(decoder_outputs)\n",
        "model.summary()\n",
        "\n"
      ],
      "metadata": {
        "id": "NcT2X0sx82mL",
        "colab": {
          "base_uri": "https://localhost:8080/"
        },
        "outputId": "e358c9aa-d399-42cd-a3e4-1deeb1d46b05"
      },
      "execution_count": null,
      "outputs": [
        {
          "output_type": "stream",
          "name": "stderr",
          "text": [
            "WARNING:tensorflow:Layer lstm will not use cuDNN kernels since it doesn't meet the criteria. It will use a generic GPU kernel as fallback when running on GPU.\n",
            "WARNING:tensorflow:Layer lstm_1 will not use cuDNN kernels since it doesn't meet the criteria. It will use a generic GPU kernel as fallback when running on GPU.\n",
            "WARNING:tensorflow:Layer lstm_2 will not use cuDNN kernels since it doesn't meet the criteria. It will use a generic GPU kernel as fallback when running on GPU.\n"
          ]
        },
        {
          "output_type": "stream",
          "name": "stdout",
          "text": [
            "Model: \"model\"\n",
            "__________________________________________________________________________________________________\n",
            " Layer (type)                Output Shape                 Param #   Connected to                  \n",
            "==================================================================================================\n",
            " input_1 (InputLayer)        [(None, 30)]                 0         []                            \n",
            "                                                                                                  \n",
            " embedding (Embedding)       (None, 30, 300)              549900    ['input_1[0][0]']             \n",
            "                                                                                                  \n",
            " input_2 (InputLayer)        [(None, None)]               0         []                            \n",
            "                                                                                                  \n",
            " lstm (LSTM)                 [(None, 30, 200),            400800    ['embedding[0][0]']           \n",
            "                              (None, 200),                                                        \n",
            "                              (None, 200)]                                                        \n",
            "                                                                                                  \n",
            " embedding_1 (Embedding)     (None, None, 300)            543600    ['input_2[0][0]']             \n",
            "                                                                                                  \n",
            " lstm_1 (LSTM)               [(None, 30, 200),            320800    ['lstm[0][0]']                \n",
            "                              (None, 200),                                                        \n",
            "                              (None, 200)]                                                        \n",
            "                                                                                                  \n",
            " lstm_2 (LSTM)               [(None, None, 200),          400800    ['embedding_1[0][0]',         \n",
            "                              (None, 200),                           'lstm_1[0][1]',              \n",
            "                              (None, 200)]                           'lstm_1[0][2]']              \n",
            "                                                                                                  \n",
            "==================================================================================================\n",
            "Total params: 2215900 (8.45 MB)\n",
            "Trainable params: 2215900 (8.45 MB)\n",
            "Non-trainable params: 0 (0.00 Byte)\n",
            "__________________________________________________________________________________________________\n"
          ]
        }
      ]
    },
    {
      "cell_type": "code",
      "source": [],
      "metadata": {
        "id": "_qeO8jV8rbIE"
      },
      "execution_count": null,
      "outputs": []
    },
    {
      "cell_type": "code",
      "source": [],
      "metadata": {
        "id": "QN9QVAGj7wNK"
      },
      "execution_count": null,
      "outputs": []
    },
    {
      "cell_type": "code",
      "source": [],
      "metadata": {
        "id": "KCsXqoaX82oV"
      },
      "execution_count": null,
      "outputs": []
    },
    {
      "cell_type": "code",
      "source": [
        "\n",
        "model.compile(optimizer='adam', loss='sparse_categorical_crossentropy')"
      ],
      "metadata": {
        "id": "o5mMbqw3Yk7h"
      },
      "execution_count": null,
      "outputs": []
    },
    {
      "cell_type": "code",
      "source": [
        "y_train = y_train_pad_sequences.reshape(y_train_pad_sequences.shape[0], y_train_pad_sequences.shape[1], 1)[:,1:]\n",
        "y_test = y_test_pad_sequences.reshape(y_test_pad_sequences.shape[0],y_test_pad_sequences.shape[1], 1)[:,1:]\n",
        "history = model.fit([x_train_pad_sequences, y_train_pad_sequences[:,:-1]],\n",
        "                     y_train,\n",
        "                     epochs=10,\n",
        "                     batch_size=128,\n",
        "                     validation_data=([x_test_pad_sequences, y_test_pad_sequences[:,:-1]], y_test))"
      ],
      "metadata": {
        "colab": {
          "base_uri": "https://localhost:8080/"
        },
        "id": "4U2aN9zdUt0G",
        "outputId": "62fc4e13-211f-44c2-d0d0-d6d29a7c7559"
      },
      "execution_count": null,
      "outputs": [
        {
          "output_type": "stream",
          "name": "stdout",
          "text": [
            "Epoch 1/10\n",
            "11/11 [==============================] - 28s 810ms/step - loss: nan - val_loss: nan\n",
            "Epoch 2/10\n",
            "11/11 [==============================] - 5s 458ms/step - loss: nan - val_loss: nan\n",
            "Epoch 3/10\n",
            "11/11 [==============================] - 8s 705ms/step - loss: nan - val_loss: nan\n",
            "Epoch 4/10\n",
            "11/11 [==============================] - 6s 550ms/step - loss: nan - val_loss: nan\n",
            "Epoch 5/10\n",
            "11/11 [==============================] - 4s 331ms/step - loss: nan - val_loss: nan\n",
            "Epoch 6/10\n",
            "11/11 [==============================] - 3s 288ms/step - loss: nan - val_loss: nan\n",
            "Epoch 7/10\n",
            "11/11 [==============================] - 2s 218ms/step - loss: nan - val_loss: nan\n",
            "Epoch 8/10\n",
            "11/11 [==============================] - 6s 515ms/step - loss: nan - val_loss: nan\n",
            "Epoch 9/10\n",
            "11/11 [==============================] - 4s 339ms/step - loss: nan - val_loss: nan\n",
            "Epoch 10/10\n",
            "11/11 [==============================] - 4s 383ms/step - loss: nan - val_loss: nan\n"
          ]
        }
      ]
    },
    {
      "cell_type": "code",
      "source": [],
      "metadata": {
        "id": "gbAY5X7fhJYu"
      },
      "execution_count": null,
      "outputs": []
    },
    {
      "cell_type": "code",
      "source": [
        "val_acc = history.history[\"val_loss\"]\n",
        "plot.plot(val_acc)\n"
      ],
      "metadata": {
        "id": "H_rOhB_lw54i",
        "colab": {
          "base_uri": "https://localhost:8080/",
          "height": 447
        },
        "outputId": "e31e4e3f-b1df-4105-bf2d-a5a802713004"
      },
      "execution_count": null,
      "outputs": [
        {
          "output_type": "execute_result",
          "data": {
            "text/plain": [
              "[<matplotlib.lines.Line2D at 0x789233b60be0>]"
            ]
          },
          "metadata": {},
          "execution_count": 15
        },
        {
          "output_type": "display_data",
          "data": {
            "text/plain": [
              "<Figure size 640x480 with 1 Axes>"
            ],
            "image/png": "[encoded data removed]"
          },
          "metadata": {}
        }
      ]
    },
    {
      "cell_type": "markdown",
      "source": [
        "https://github.com/sujanshirol/Test-Summarization-LSTMs/blob/main/NLP_Text_Summarization.ipynb"
      ],
      "metadata": {
        "id": "pgue-DotyMre"
      }
    },
    {
      "cell_type": "code",
      "source": [],
      "metadata": {
        "id": "jCUZpGYVybJg"
      },
      "execution_count": null,
      "outputs": []
    },
    {
      "cell_type": "code",
      "source": [
        "# Encode the input sequence to get the feature vector\n",
        "encoder_model = Model(inputs=encoder_inputs, outputs=[encoder_outputs, h, c])\n",
        "\n",
        "# Decoder setup\n",
        "# Below tensors will hold the states of the previous time step\n",
        "decoder_state_input_h = Input(shape=(latent_dim,))\n",
        "decoder_state_input_c = Input(shape=(latent_dim,))\n",
        "decoder_hidden_state_input = Input(shape=(max_text_length,latent_dim))\n",
        "\n",
        "# Get the embeddings of the decoder sequence\n",
        "dec_emb2 = decoder_emb_layer(decoder_inputs)\n",
        "# To predict the next word in the sequence, set the initial states to the states from the previous time step\n",
        "decoder_outputs2, state_h2, state_c2 = decoder_lstm(dec_emb2, initial_state=[decoder_state_input_h, decoder_state_input_c])\n",
        "\n",
        "#IGNORE attention inference\n",
        "# attn_out_inf, attn_states_inf = attn_layer([decoder_hidden_state_input, decoder_outputs2])\n",
        "# decoder_inf_concat = Concatenate(axis=-1, name='concat')([decoder_outputs2, attn_out_inf])\n",
        "\n",
        "# A dense softmax layer to generate prob dist. over the target vocabulary\n",
        "decoder_outputs2 = decoder_dense(decoder_outputs2)\n",
        "\n",
        "# Final decoder model\n",
        "decoder_model = Model(\n",
        "    [decoder_inputs] + [decoder_hidden_state_input,decoder_state_input_h, decoder_state_input_c],\n",
        "    [decoder_outputs2] + [state_h2, state_c2])"
      ],
      "metadata": {
        "id": "vqcVukUbycAO"
      },
      "execution_count": null,
      "outputs": []
    },
    {
      "cell_type": "code",
      "source": [
        "\n",
        "reverse_target_word_index=y_tokenizer.index_word\n",
        "reverse_source_word_index=x_tokenizer.index_word\n",
        "target_word_index=y_tokenizer.word_index\n",
        "print(target_word_index['rbegin'])"
      ],
      "metadata": {
        "colab": {
          "base_uri": "https://localhost:8080/"
        },
        "id": "g7Gco44qWPAa",
        "outputId": "fc08d042-5224-4609-8b29-3b13fec5db0b"
      },
      "execution_count": null,
      "outputs": [
        {
          "output_type": "stream",
          "name": "stdout",
          "text": [
            "2\n"
          ]
        }
      ]
    },
    {
      "cell_type": "code",
      "source": [
        "\n",
        "def decode_sequence(input_seq):\n",
        "    # Encode the input as state vectors.\n",
        "    e_out, e_h, e_c = encoder_model.predict(input_seq)\n",
        "    # Generate empty target sequence of length 1.\n",
        "    target_seq = np.zeros((1,1))\n",
        "\n",
        "    # Populate the first word of target sequence with the start word.\n",
        "    target_seq[0, 0] = target_word_index['rbegin']\n",
        "\n",
        "    stop_condition = False\n",
        "    decoded_sentence = ''\n",
        "    while not stop_condition:\n",
        "\n",
        "        output_tokens, h, c = decoder_model.predict([target_seq] + [e_out, e_h, e_c])\n",
        "\n",
        "        # Sample a token\n",
        "        sampled_token_index = np.argmax(output_tokens[0, -1, :])\n",
        "        sampled_token = reverse_target_word_index[sampled_token_index]\n",
        "\n",
        "        if(sampled_token!='rend'):\n",
        "            decoded_sentence += ' '+sampled_token\n",
        "\n",
        "        # Exit condition: either hit max length or find stop word.\n",
        "        if (sampled_token == 'rend'  or len(decoded_sentence.split()) >= (max_rephrase_length-1)):\n",
        "            stop_condition = True\n",
        "\n",
        "        # Update the target sequence (of length 1).\n",
        "        target_seq = np.zeros((1,1))\n",
        "        target_seq[0, 0] = sampled_token_index\n",
        "\n",
        "        # Update internal states\n",
        "        e_h, e_c = h, c\n",
        "\n",
        "    return decoded_sentence"
      ],
      "metadata": {
        "id": "QNi0Kol9KrvR"
      },
      "execution_count": null,
      "outputs": []
    },
    {
      "cell_type": "code",
      "source": [
        "def seq2rephrase(input_seq):\n",
        "    newString=''\n",
        "    for i in input_seq:\n",
        "        if((i!=0 and i!=target_word_index['rbegin']) and i!=target_word_index['rend']):\n",
        "            newString=newString+reverse_target_word_index[i]+' '\n",
        "    return newString\n",
        "\n",
        "def seq2text(input_seq):\n",
        "    newString=''\n",
        "    for i in input_seq:\n",
        "        if(i!=0):\n",
        "            newString=newString+reverse_source_word_index[i]+' '\n",
        "    return newString"
      ],
      "metadata": {
        "id": "4_VuL75pXaRD"
      },
      "execution_count": null,
      "outputs": []
    },
    {
      "cell_type": "code",
      "source": [
        "for i in range(0, 2):\n",
        "    print(\"Text:\",seq2text(x_train_pad_sequences[i]))\n",
        "    print(\"Original rephrase:\",seq2rephrase(y_train_pad_sequences[i]))\n",
        "    print(\"Predicted rephrase:\",decode_sequence(x_train_pad_sequences[i].reshape(1,max_text_length)))\n",
        "    print(\"\\n\")"
      ],
      "metadata": {
        "colab": {
          "base_uri": "https://localhost:8080/",
          "height": 412
        },
        "id": "n0bEJMupOZiG",
        "outputId": "86da2cdd-31fa-4e1b-826b-e442ffc996ac"
      },
      "execution_count": null,
      "outputs": [
        {
          "output_type": "stream",
          "name": "stdout",
          "text": [
            "Text: please call 01389298225 for all inquiries emergencies due to a phone line issue and leave a voicemail \n",
            "Original rephrase: the phone isn't working call my new number for inquiries emergencies \n",
            "1/1 [==============================] - 0s 456ms/step\n",
            "1/1 [==============================] - 0s 220ms/step\n"
          ]
        },
        {
          "output_type": "error",
          "ename": "KeyError",
          "evalue": "ignored",
          "traceback": [
            "\u001b[0;31m---------------------------------------------------------------------------\u001b[0m",
            "\u001b[0;31mKeyError\u001b[0m                                  Traceback (most recent call last)",
            "\u001b[0;32m<ipython-input-20-9e39a755c80b>\u001b[0m in \u001b[0;36m<cell line: 1>\u001b[0;34m()\u001b[0m\n\u001b[1;32m      2\u001b[0m     \u001b[0mprint\u001b[0m\u001b[0;34m(\u001b[0m\u001b[0;34m\"Text:\"\u001b[0m\u001b[0;34m,\u001b[0m\u001b[0mseq2text\u001b[0m\u001b[0;34m(\u001b[0m\u001b[0mx_train_pad_sequences\u001b[0m\u001b[0;34m[\u001b[0m\u001b[0mi\u001b[0m\u001b[0;34m]\u001b[0m\u001b[0;34m)\u001b[0m\u001b[0;34m)\u001b[0m\u001b[0;34m\u001b[0m\u001b[0;34m\u001b[0m\u001b[0m\n\u001b[1;32m      3\u001b[0m     \u001b[0mprint\u001b[0m\u001b[0;34m(\u001b[0m\u001b[0;34m\"Original rephrase:\"\u001b[0m\u001b[0;34m,\u001b[0m\u001b[0mseq2rephrase\u001b[0m\u001b[0;34m(\u001b[0m\u001b[0my_train_pad_sequences\u001b[0m\u001b[0;34m[\u001b[0m\u001b[0mi\u001b[0m\u001b[0;34m]\u001b[0m\u001b[0;34m)\u001b[0m\u001b[0;34m)\u001b[0m\u001b[0;34m\u001b[0m\u001b[0;34m\u001b[0m\u001b[0m\n\u001b[0;32m----> 4\u001b[0;31m     \u001b[0mprint\u001b[0m\u001b[0;34m(\u001b[0m\u001b[0;34m\"Predicted rephrase:\"\u001b[0m\u001b[0;34m,\u001b[0m\u001b[0mdecode_sequence\u001b[0m\u001b[0;34m(\u001b[0m\u001b[0mx_train_pad_sequences\u001b[0m\u001b[0;34m[\u001b[0m\u001b[0mi\u001b[0m\u001b[0;34m]\u001b[0m\u001b[0;34m.\u001b[0m\u001b[0mreshape\u001b[0m\u001b[0;34m(\u001b[0m\u001b[0;36m1\u001b[0m\u001b[0;34m,\u001b[0m\u001b[0mmax_text_length\u001b[0m\u001b[0;34m)\u001b[0m\u001b[0;34m)\u001b[0m\u001b[0;34m)\u001b[0m\u001b[0;34m\u001b[0m\u001b[0;34m\u001b[0m\u001b[0m\n\u001b[0m\u001b[1;32m      5\u001b[0m     \u001b[0mprint\u001b[0m\u001b[0;34m(\u001b[0m\u001b[0;34m\"\\n\"\u001b[0m\u001b[0;34m)\u001b[0m\u001b[0;34m\u001b[0m\u001b[0;34m\u001b[0m\u001b[0m\n",
            "\u001b[0;32m<ipython-input-18-a17e870bb4d0>\u001b[0m in \u001b[0;36mdecode_sequence\u001b[0;34m(input_seq)\u001b[0m\n\u001b[1;32m     16\u001b[0m         \u001b[0;31m# Sample a token\u001b[0m\u001b[0;34m\u001b[0m\u001b[0;34m\u001b[0m\u001b[0m\n\u001b[1;32m     17\u001b[0m         \u001b[0msampled_token_index\u001b[0m \u001b[0;34m=\u001b[0m \u001b[0mnp\u001b[0m\u001b[0;34m.\u001b[0m\u001b[0margmax\u001b[0m\u001b[0;34m(\u001b[0m\u001b[0moutput_tokens\u001b[0m\u001b[0;34m[\u001b[0m\u001b[0;36m0\u001b[0m\u001b[0;34m,\u001b[0m \u001b[0;34m-\u001b[0m\u001b[0;36m1\u001b[0m\u001b[0;34m,\u001b[0m \u001b[0;34m:\u001b[0m\u001b[0;34m]\u001b[0m\u001b[0;34m)\u001b[0m\u001b[0;34m\u001b[0m\u001b[0;34m\u001b[0m\u001b[0m\n\u001b[0;32m---> 18\u001b[0;31m         \u001b[0msampled_token\u001b[0m \u001b[0;34m=\u001b[0m \u001b[0mreverse_target_word_index\u001b[0m\u001b[0;34m[\u001b[0m\u001b[0msampled_token_index\u001b[0m\u001b[0;34m]\u001b[0m\u001b[0;34m\u001b[0m\u001b[0;34m\u001b[0m\u001b[0m\n\u001b[0m\u001b[1;32m     19\u001b[0m \u001b[0;34m\u001b[0m\u001b[0m\n\u001b[1;32m     20\u001b[0m         \u001b[0;32mif\u001b[0m\u001b[0;34m(\u001b[0m\u001b[0msampled_token\u001b[0m\u001b[0;34m!=\u001b[0m\u001b[0;34m'rend'\u001b[0m\u001b[0;34m)\u001b[0m\u001b[0;34m:\u001b[0m\u001b[0;34m\u001b[0m\u001b[0;34m\u001b[0m\u001b[0m\n",
            "\u001b[0;31mKeyError\u001b[0m: 0"
          ]
        }
      ]
    },
    {
      "cell_type": "code",
      "source": [],
      "metadata": {
        "id": "noxbdEBePRdY"
      },
      "execution_count": null,
      "outputs": []
    }
  ]
}