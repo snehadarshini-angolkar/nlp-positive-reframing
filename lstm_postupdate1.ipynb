{
  "cells": [
    {
      "cell_type": "code",
      "execution_count": null,
      "metadata": {
        "id": "qYeUO77dAoGE"
      },
      "outputs": [],
      "source": [
        "import pandas as pd\n",
        "import sys\n",
        "import numpy as np\n",
        "from matplotlib import pyplot as plot\n",
        "from sklearn.model_selection import train_test_split\n",
        "from keras.preprocessing.text import Tokenizer\n",
        "from keras.preprocessing.sequence import pad_sequences"
      ]
    },
    {
      "cell_type": "code",
      "execution_count": null,
      "metadata": {
        "colab": {
          "base_uri": "https://localhost:8080/"
        },
        "id": "YJPMGIwVAb8f",
        "outputId": "9915b210-c69f-4adf-ee39-1c16e8cf4e8d"
      },
      "outputs": [
        {
          "output_type": "stream",
          "name": "stdout",
          "text": [
            "Drive already mounted at /content/drive; to attempt to forcibly remount, call drive.mount(\"/content/drive\", force_remount=True).\n"
          ]
        }
      ],
      "source": [
        "from google.colab import drive\n",
        "drive.mount(\"/content/drive\")"
      ]
    },
    {
      "cell_type": "code",
      "execution_count": null,
      "metadata": {
        "colab": {
          "base_uri": "https://localhost:8080/"
        },
        "id": "113rSSzVAuG4",
        "outputId": "b12c33f4-ff74-4faa-c535-b38feb0b22c7"
      },
      "outputs": [
        {
          "output_type": "stream",
          "name": "stdout",
          "text": [
            "                                                text  \\\n",
            "0  You may be stressed out, but your body doesn't...   \n",
            "1  Arghhh can't stand when tan goes patchy then i...   \n",
            "2  M4&M49 were bloody horrendous. Finally found m...   \n",
            "3  Life is just hard and harder when difficult pe...   \n",
            "4  I realize you're all trying to help me, but it...   \n",
            "\n",
            "                                            rephrase  \n",
            "0  I will be able to go through stress because I ...  \n",
            "1  Tanning can sometimes have unexpected results ...  \n",
            "2  Even though I am facing a hard time at least I...  \n",
            "3  Keep difficult people out of your life or you'...  \n",
            "4  I am happy to have people who care about me an...  \n"
          ]
        }
      ],
      "source": [
        "df1 = pd.read_csv(\"/content/drive/MyDrive/for_train.txt\", sep=\"\\t\", header=None, names=[\"text\", \"rephrase\"])\n",
        "print(df1.head())\n",
        "df = df1\n"
      ]
    },
    {
      "cell_type": "code",
      "execution_count": null,
      "metadata": {
        "colab": {
          "base_uri": "https://localhost:8080/"
        },
        "id": "gKhLkVHN9P6_",
        "outputId": "a0163485-2528-4ae1-8679-b8eec7cce8d7"
      },
      "outputs": [
        {
          "output_type": "stream",
          "name": "stderr",
          "text": [
            "<ipython-input-6-2aa0f4d9e1b8>:4: FutureWarning: The series.append method is deprecated and will be removed from pandas in a future version. Use pandas.concat instead.\n",
            "  all_texts =all_texts.append(df[\"rephrase\"])\n"
          ]
        }
      ],
      "source": [
        "len(df)\n",
        "#all_texts = df[\"text\"] + df[\"rephrase\"]\n",
        "all_texts = df[\"text\"]\n",
        "all_texts =all_texts.append(df[\"rephrase\"])"
      ]
    },
    {
      "cell_type": "code",
      "execution_count": null,
      "metadata": {
        "colab": {
          "base_uri": "https://localhost:8080/"
        },
        "id": "YMsoyY0yISMq",
        "outputId": "bbadef04-5f59-4bfb-8fb4-e52e26839129"
      },
      "outputs": [
        {
          "output_type": "stream",
          "name": "stdout",
          "text": [
            "59\n"
          ]
        }
      ],
      "source": [
        "len(all_texts)\n",
        "tokenizer = Tokenizer()\n",
        "tokenizer.fit_on_texts(all_texts)\n",
        "sequences = tokenizer.texts_to_sequences(all_texts)\n",
        "max_seq_length = max(len(seq) for seq in sequences)\n",
        "print(max_seq_length)"
      ]
    },
    {
      "cell_type": "code",
      "execution_count": null,
      "metadata": {
        "id": "tozI_mZLWHmV"
      },
      "outputs": [],
      "source": [
        "corpus_vec = []\n",
        "def getVectors(dataset):\n",
        "\n",
        "    for sentence in dataset:\n",
        "        sent_vector = []\n",
        "        count = 0;\n",
        "        for word in sentence:\n",
        "            count = count + 1;\n",
        "            if (word in glove):\n",
        "                vector = glove[word];\n",
        "                sent_vector.append(np.array(vector))\n",
        "        print(\"word\", count)\n",
        "        print(len(sent_vector))\n",
        "        corpus_vec.append(sent_vector)\n",
        "    return corpus_vec"
      ]
    },
    {
      "cell_type": "code",
      "execution_count": null,
      "metadata": {
        "id": "cupAuv58BKcw"
      },
      "outputs": [],
      "source": []
    },
    {
      "cell_type": "code",
      "execution_count": null,
      "metadata": {
        "id": "J-t5CyQuG6hi"
      },
      "outputs": [],
      "source": [
        "cleaned_text = np.array(df['text'])\n",
        "cleaned_rephrase= np.array(df['rephrase'])\n",
        "\n",
        "\n",
        "short_text = []\n",
        "short_summary = []\n",
        "\n",
        "# filters out articles and summaries that are too long. this is where improvement\n",
        "# could be made to include longer articles and just cut them off\n",
        "for i in range(len(cleaned_text)):\n",
        "    if len(cleaned_rephrase[i].split()) <= max_seq_length and len(cleaned_text[i].split()) <= max_seq_length:\n",
        "        short_text.append(cleaned_text[i])\n",
        "        short_summary.append(cleaned_rephrase[i])\n",
        "\n",
        "post_pre = pd.DataFrame({'text': short_text,'rephrase': short_summary})\n",
        "\n",
        "# Add tokens labeled 'rbegin' and 'rend' to guide autoencoder through its\n",
        "# summery generation\n",
        "post_pre['rephrase'] = post_pre['rephrase'].apply(lambda x: 'rbegin ' + x + ' rend')\n",
        "\n",
        "post_pre.head(5)"
      ]
    },
    {
      "cell_type": "code",
      "execution_count": null,
      "metadata": {
        "id": "qxeX1AQxWIUI"
      },
      "outputs": [],
      "source": [
        "tokenizer = Tokenizer()\n",
        "all_texts1 = post_pre[\"text\"]\n",
        "all_texts1 =all_texts1.append(post_pre[\"rephrase\"])\n",
        "tokenizer.fit_on_texts(all_texts1)\n",
        "sequences = tokenizer.texts_to_sequences(all_texts1)\n",
        "max_seq_length = max(len(seq) for seq in sequences)\n",
        "print(max_seq_length)"
      ]
    },
    {
      "cell_type": "code",
      "execution_count": null,
      "metadata": {
        "id": "y4st4jEpAzKX",
        "colab": {
          "base_uri": "https://localhost:8080/"
        },
        "outputId": "587bb11a-25ea-489b-be5f-088a7239ca52"
      },
      "outputs": [
        {
          "output_type": "stream",
          "name": "stdout",
          "text": [
            "word 259\n",
            "190\n",
            "word 127\n",
            "98\n",
            "word 189\n",
            "153\n",
            "word 111\n",
            "81\n",
            "word 92\n",
            "74\n"
          ]
        }
      ],
      "source": [
        "from sklearn.model_selection import train_test_split\n",
        "\n",
        "x_tr, x_val, y_tr, y_val = train_test_split(\n",
        "    np.array(post_pre[\"text\"]),\n",
        "    np.array(post_pre[\"rephrase\"]),\n",
        "    test_size=0.2,\n",
        "    random_state=0,\n",
        "    shuffle=True,\n",
        ")\n",
        "x_tr = getVectors(x_tr[:5])"
      ]
    },
    {
      "cell_type": "code",
      "source": [
        "te = post_pre[\"text\"]\n",
        "print(len(te[0]))"
      ],
      "metadata": {
        "colab": {
          "base_uri": "https://localhost:8080/"
        },
        "id": "U4DxSNr6mGqj",
        "outputId": "7403d032-a5f9-4abb-ebe2-61f06f06c213"
      },
      "execution_count": null,
      "outputs": [
        {
          "output_type": "stream",
          "name": "stdout",
          "text": [
            "113\n"
          ]
        }
      ]
    },
    {
      "cell_type": "code",
      "source": [
        "\n",
        "x_val = getVectors(x_val)\n",
        "y_tr = getVectors(y_tr)"
      ],
      "metadata": {
        "id": "AI81rufPYQ46"
      },
      "execution_count": null,
      "outputs": []
    },
    {
      "cell_type": "code",
      "source": [
        "y_val = getVectors(y_val)"
      ],
      "metadata": {
        "id": "TgUwn-75Ym1z"
      },
      "execution_count": null,
      "outputs": []
    },
    {
      "cell_type": "code",
      "source": [],
      "metadata": {
        "id": "mAE7jYWTeCwW"
      },
      "execution_count": null,
      "outputs": []
    },
    {
      "cell_type": "code",
      "source": [
        "print(len(x_tr[3]))\n",
        "temp = np.array(x_tr[:3])\n",
        "y = padding1(temp)\n",
        "len(y[0])\n",
        "len(y[1])"
      ],
      "metadata": {
        "colab": {
          "base_uri": "https://localhost:8080/"
        },
        "id": "ClsiYLejeUw5",
        "outputId": "ba3ef131-ec8a-4428-c6d8-d46118647061"
      },
      "execution_count": null,
      "outputs": [
        {
          "output_type": "stream",
          "name": "stdout",
          "text": [
            "81\n"
          ]
        },
        {
          "output_type": "stream",
          "name": "stderr",
          "text": [
            "<ipython-input-155-aa4c41436d0b>:2: VisibleDeprecationWarning: Creating an ndarray from ragged nested sequences (which is a list-or-tuple of lists-or-tuples-or ndarrays with different lengths or shapes) is deprecated. If you meant to do this, you must specify 'dtype=object' when creating the ndarray.\n",
            "  temp = np.array(x_tr[:3])\n"
          ]
        },
        {
          "output_type": "execute_result",
          "data": {
            "text/plain": [
              "98"
            ]
          },
          "metadata": {},
          "execution_count": 155
        }
      ]
    },
    {
      "cell_type": "code",
      "source": [
        "x_tr2"
      ],
      "metadata": {
        "colab": {
          "base_uri": "https://localhost:8080/",
          "height": 174
        },
        "id": "_9uwhs_WfIjd",
        "outputId": "5e087526-41e9-4a91-c59b-823c674a2be5"
      },
      "execution_count": null,
      "outputs": [
        {
          "output_type": "error",
          "ename": "AttributeError",
          "evalue": "ignored",
          "traceback": [
            "\u001b[0;31m---------------------------------------------------------------------------\u001b[0m",
            "\u001b[0;31mAttributeError\u001b[0m                            Traceback (most recent call last)",
            "\u001b[0;32m<ipython-input-108-57d357e72597>\u001b[0m in \u001b[0;36m<cell line: 1>\u001b[0;34m()\u001b[0m\n\u001b[0;32m----> 1\u001b[0;31m \u001b[0mx_tr2\u001b[0m\u001b[0;34m.\u001b[0m\u001b[0mshape\u001b[0m\u001b[0;34m\u001b[0m\u001b[0;34m\u001b[0m\u001b[0m\n\u001b[0m",
            "\u001b[0;31mAttributeError\u001b[0m: 'list' object has no attribute 'shape'"
          ]
        }
      ]
    },
    {
      "cell_type": "code",
      "source": [
        "x_tr = pad_sequences(x_tr,  maxlen=max_seq_length, padding='post')\n",
        "x_val = pad_sequences(x_val, maxlen=max_seq_length, padding='post')"
      ],
      "metadata": {
        "id": "u_GgrbOyY4En"
      },
      "execution_count": null,
      "outputs": []
    },
    {
      "cell_type": "code",
      "source": [
        "x_tr[0]"
      ],
      "metadata": {
        "colab": {
          "base_uri": "https://localhost:8080/"
        },
        "id": "pdB--HOcYY1o",
        "outputId": "60f78d0b-c54f-45d1-a206-180dc2bab8ea"
      },
      "execution_count": null,
      "outputs": [
        {
          "output_type": "execute_result",
          "data": {
            "text/plain": [
              "array([[0, 0, 0, ..., 0, 0, 0],\n",
              "       [0, 0, 0, ..., 0, 0, 0],\n",
              "       [0, 0, 0, ..., 0, 0, 0],\n",
              "       ...,\n",
              "       [0, 0, 0, ..., 0, 0, 0],\n",
              "       [0, 0, 0, ..., 0, 0, 0],\n",
              "       [0, 0, 0, ..., 0, 0, 0]], dtype=int32)"
            ]
          },
          "metadata": {},
          "execution_count": 64
        }
      ]
    },
    {
      "cell_type": "code",
      "execution_count": null,
      "metadata": {
        "id": "gvZPYTFAB4OI"
      },
      "outputs": [],
      "source": [
        "text_sent_length = []\n",
        "x_word_set = []\n",
        "rephrase_sent_length = []\n",
        "y_word_set = []\n",
        "for i in df['text']:\n",
        "      text_sent_length.append(len(i.split()))\n",
        "      x_word_set.extend(i.split())\n",
        "for j in df['rephrase']:\n",
        "      rephrase_sent_length.append(len(j.split()))\n",
        "      y_word_set.extend(j.split())"
      ]
    },
    {
      "cell_type": "code",
      "execution_count": null,
      "metadata": {
        "colab": {
          "base_uri": "https://localhost:8080/"
        },
        "id": "ifC6MbsRGbbu",
        "outputId": "24162a46-1f36-4b8e-ec35-f721d6106867"
      },
      "outputs": [
        {
          "output_type": "stream",
          "name": "stdout",
          "text": [
            "6827\n"
          ]
        }
      ],
      "source": [
        "x_vocab = pd.Series(x_word_set).drop_duplicates().tolist()\n",
        "y_vocab = pd.Series(y_word_set).drop_duplicates().tolist()\n",
        "print(len(x_vocab))"
      ]
    },
    {
      "cell_type": "code",
      "execution_count": null,
      "metadata": {
        "id": "S-awgUZVHtlm"
      },
      "outputs": [],
      "source": [
        "x_tokenizer = Tokenizer(num_words = len(x_vocab))\n",
        "x_tokenizer.fit_on_texts(list(x_tr))"
      ]
    },
    {
      "cell_type": "code",
      "execution_count": null,
      "metadata": {
        "colab": {
          "base_uri": "https://localhost:8080/"
        },
        "id": "L6pWWCfm5-Pm",
        "outputId": "e7f1c4ae-7a12-401a-eb44-71962f63a862"
      },
      "outputs": [
        {
          "name": "stdout",
          "output_type": "stream",
          "text": [
            "4485\n"
          ]
        }
      ],
      "source": [
        "print(len(y_vocab))"
      ]
    },
    {
      "cell_type": "code",
      "execution_count": null,
      "metadata": {
        "id": "zla6tHBRH9Ek"
      },
      "outputs": [],
      "source": [
        "x_tr_seq = x_tokenizer.texts_to_sequences(x_tr)\n",
        "x_val_seq = x_tokenizer.texts_to_sequences(x_val)"
      ]
    },
    {
      "cell_type": "code",
      "execution_count": null,
      "metadata": {
        "id": "o86JfN2cQDqI"
      },
      "outputs": [],
      "source": []
    },
    {
      "cell_type": "code",
      "execution_count": null,
      "metadata": {
        "id": "MCmLDjfiNPAt"
      },
      "outputs": [],
      "source": [
        "x_tr = pad_sequences(x_tr_seq,  maxlen=max_seq_length, padding='post')\n",
        "x_val = pad_sequences(x_val_seq, maxlen=max_seq_length, padding='post')"
      ]
    },
    {
      "cell_type": "code",
      "execution_count": null,
      "metadata": {
        "id": "LmJmE65ZQC1m"
      },
      "outputs": [],
      "source": [
        "x_voc = x_tokenizer.num_words + 1"
      ]
    },
    {
      "cell_type": "code",
      "execution_count": null,
      "metadata": {
        "colab": {
          "base_uri": "https://localhost:8080/"
        },
        "id": "oRC3MiAZUp6L",
        "outputId": "6f4bd68d-781b-43c2-e231-6deb935603b2"
      },
      "outputs": [
        {
          "data": {
            "text/plain": [
              "6828"
            ]
          },
          "execution_count": 44,
          "metadata": {},
          "output_type": "execute_result"
        }
      ],
      "source": [
        "x_voc"
      ]
    },
    {
      "cell_type": "code",
      "execution_count": null,
      "metadata": {
        "id": "h6cjzeJ8RTrL"
      },
      "outputs": [],
      "source": [
        "y_tokenizer = Tokenizer(num_words=len(y_vocab))\n",
        "y_tokenizer.fit_on_texts(list(y_tr))\n",
        "\n",
        "y_tr_seq = y_tokenizer.texts_to_sequences(y_tr)\n",
        "y_val_seq = y_tokenizer.texts_to_sequences(y_val)\n",
        "\n",
        "y_tr = pad_sequences(y_tr_seq, maxlen=max_seq_length, padding='post')\n",
        "y_val = pad_sequences(y_val_seq, maxlen=max_seq_length, padding='post')\n",
        "\n",
        "\n",
        "y_voc = y_tokenizer.num_words + 1"
      ]
    },
    {
      "cell_type": "code",
      "execution_count": null,
      "metadata": {
        "colab": {
          "base_uri": "https://localhost:8080/"
        },
        "id": "dl7SW-4b-BD1",
        "outputId": "b28bcdc7-8d0c-4d9c-92e7-bc7b3ee16207"
      },
      "outputs": [
        {
          "data": {
            "text/plain": [
              "4486"
            ]
          },
          "execution_count": 45,
          "metadata": {},
          "output_type": "execute_result"
        }
      ],
      "source": [
        "y_voc"
      ]
    },
    {
      "cell_type": "code",
      "execution_count": null,
      "metadata": {
        "id": "DB4-rsKkSnN9"
      },
      "outputs": [],
      "source": []
    },
    {
      "cell_type": "code",
      "execution_count": null,
      "metadata": {
        "id": "Mce2JsawUZNC"
      },
      "outputs": [],
      "source": [
        "from keras.callbacks import LambdaCallback\n",
        "from keras.models import Sequential\n",
        "from keras.layers import Dense, LSTM\n",
        "from keras.layers import Input, Embedding, TimeDistributed, RepeatVector, Concatenate\n",
        "from keras.models import Model\n",
        "import gensim.downloader\n",
        "glove = gensim.downloader.load('glove-twitter-200')"
      ]
    },
    {
      "cell_type": "code",
      "execution_count": null,
      "metadata": {
        "id": "dmvL6iRU3a1z"
      },
      "outputs": [],
      "source": [
        "embedding_matrix = np.zeros((len(tokenizer.word_index) + 1, embedding_dim))\n",
        "for word, i in tokenizer.word_index.items():\n",
        "    if word in glove:\n",
        "      embedding_vector = glove[word]\n",
        "      if embedding_vector is not None:\n",
        "        embedding_matrix[i] = embedding_vector\n",
        "length = len(tokenizer.word_index) + 1"
      ]
    },
    {
      "cell_type": "code",
      "execution_count": null,
      "metadata": {
        "colab": {
          "base_uri": "https://localhost:8080/"
        },
        "id": "q_1ggRjsDj_2",
        "outputId": "2776b68f-f4fd-4cb4-8130-0d851780c7bb"
      },
      "outputs": [
        {
          "data": {
            "text/plain": [
              "4474"
            ]
          },
          "execution_count": 55,
          "metadata": {},
          "output_type": "execute_result"
        }
      ],
      "source": [
        "length"
      ]
    },
    {
      "cell_type": "code",
      "execution_count": null,
      "metadata": {
        "id": "tgtlvMBU3-G9"
      },
      "outputs": [],
      "source": [
        "\n",
        "encoder_input = Input(shape=(max_seq_length,))\n",
        "encoder_embedding = Embedding(input_dim=len(tokenizer.word_index) + 1, output_dim=embedding_dim, weights=[embedding_matrix], trainable=False)(encoder_input)\n",
        "encoder_lstm, state_h, state_c = LSTM(100, return_state=True, dropout=0.5, recurrent_dropout=0.5)(encoder_embedding)\n",
        "encoder_states = [state_h, state_c]\n",
        "\n",
        "\n",
        "decoder_input = Input(shape=(None,))\n",
        "decoder_embedding = Embedding(input_dim=len(tokenizer.word_index) + 1, output_dim=embedding_dim, weights=[embedding_matrix], trainable=False)(decoder_input)\n",
        "decoder_lstm = LSTM(100, return_sequences=True, return_state=True, dropout=0.5, recurrent_dropout=0.5)\n",
        "decoder_outputs, _, _ = decoder_lstm(decoder_embedding, initial_state=encoder_states)\n",
        "decoder_dense = Dense(len(tokenizer.word_index) + 1, activation='relu')\n",
        "decoder_outputs = decoder_dense(decoder_outputs)\n",
        "\n",
        "\n",
        "\n",
        "# Build the full model\n",
        "\n",
        "model = Model([encoder_input, decoder_input], decoder_outputs)\n",
        "model.compile(loss='sparse_categorical_crossentropy', optimizer='adam', metrics=['accuracy'])\n",
        "\n",
        "# Train the model\n",
        "#model.fit(x_tr, y_tr, epochs=10, verbose=0)\n",
        "history = model.fit([x_tr, y_tr], y_tr, epochs=3, batch_size=128, verbose=1)\n",
        "\n",
        "\n",
        "\n",
        "\n"
      ]
    },
    {
      "cell_type": "code",
      "execution_count": null,
      "metadata": {
        "id": "DW-6rhDheuJY"
      },
      "outputs": [],
      "source": [
        "# encoder inference\n",
        "encoder_model = Model(inputs=encoder_input,outputs=[state_h, state_c])\n",
        "\n",
        "# decoder inference\n",
        "# Below tensors will hold the states of the previous time step\n",
        "decoder_state_input_h = Input(shape=(latent_dim,))\n",
        "decoder_state_input_c = Input(shape=(latent_dim,))\n",
        "decoder_hidden_state_input = Input(shape=(max_seq_length,latent_dim))\n",
        "decoder_states_inputs = [decoder_state_input_h, decoder_state_input_c]\n",
        "# Get the embeddings of the decoder sequence\n",
        "#dec_emb2= decoder_embedding(decoder_input)\n",
        "\n",
        "# To predict the next word in the sequence, set the initial states to the states from the previous time step\n",
        "decoder_outputs2, state_h2, state_c2 = decoder_lstm(decoder_embedding, initial_state=decoder_states_inputs)\n",
        "\n",
        "#attention inference\n",
        "#attn_out_inf, attn_states_inf = attn_layer([decoder_hidden_state_input, decoder_outputs2])\n",
        "#decoder_inf_concat = Concatenate(axis=-1, name='concat')([decoder_outputs2, attn_out_inf])\n",
        "\n",
        "# A dense softmax layer to generate prob dist. over the target vocabulary\n",
        "decoder_outputs3 = decoder_dense(decoder_outputs2)\n",
        "\n",
        "# Final decoder model\n",
        "decoder_model = Model(\n",
        "[decoder_input] + decoder_states_inputs,\n",
        "[decoder_outputs3] + [state_h2, state_c2])\n",
        "decoder_model.summary()"
      ]
    },
    {
      "cell_type": "code",
      "source": [
        "model.input[0]"
      ],
      "metadata": {
        "colab": {
          "base_uri": "https://localhost:8080/"
        },
        "id": "-XVK5u0hybVL",
        "outputId": "75e4d6a6-0cab-404f-f2de-495cfe7ec5ea"
      },
      "execution_count": null,
      "outputs": [
        {
          "output_type": "execute_result",
          "data": {
            "text/plain": [
              "<KerasTensor: shape=(None, 59) dtype=float32 (created by layer 'input_6')>"
            ]
          },
          "metadata": {},
          "execution_count": 60
        }
      ]
    },
    {
      "cell_type": "code",
      "execution_count": null,
      "metadata": {
        "id": "RyLpYIvFWYo9"
      },
      "outputs": [],
      "source": []
    },
    {
      "cell_type": "code",
      "execution_count": null,
      "metadata": {
        "id": "dzS0sv1ET5-i"
      },
      "outputs": [],
      "source": [
        "def decode_sequence(input_seq):\n",
        "    # Encode the input as state vectors.\n",
        "    states_value = encoder_model.predict(input_seq)\n",
        "    # Generate empty target sequence of length 1.\n",
        "    target_seq = np.zeros((1, 1))\n",
        "\n",
        "    # Populate the first character of target sequence with the start character.\n",
        "    target_seq[0, 0] = tokenizer.word_index['rbegin']  # Use the start token index\n",
        "    # Sampling loop for a batch of sequences\n",
        "    stop_condition = False\n",
        "    decoded_sentence = ''\n",
        "\n",
        "    while not stop_condition:\n",
        "        output_tokens, h, c = decoder_model.predict([target_seq] + states_value)\n",
        "\n",
        "        # Sample a token\n",
        "        sampled_token_index = np.argmax(output_tokens[0, -1, :])\n",
        "        sampled_word = \" \"\n",
        "        for word, index in tokenizer.word_index.items():\n",
        "            if index == sampled_token_index:\n",
        "                sampled_word = word\n",
        "                break\n",
        "\n",
        "        #if sampled_word is not None:\n",
        "        decoded_sentence += ' ' + sampled_word\n",
        "\n",
        "        # Exit condition: either hit max length or find stop character.\n",
        "        if sampled_word == 'rend' or len(decoded_sentence.split()) >= max_seq_length:\n",
        "          stop_condition = True\n",
        "\n",
        "        # Update the target sequence (of length 1).\n",
        "        target_seq = np.zeros((1, 1))\n",
        "        target_seq[0, 0] = sampled_token_index\n",
        "\n",
        "        # Update states\n",
        "        states_value = [h, c]\n",
        "\n",
        "    return decoded_sentence"
      ]
    },
    {
      "cell_type": "code",
      "execution_count": null,
      "metadata": {
        "id": "txZTM6InUSJM"
      },
      "outputs": [],
      "source": [
        "input_text = \"I dislike this product.\"\n",
        "input_sequence = tokenizer.texts_to_sequences([input_text])\n",
        "\n",
        "padded_input_sequence = pad_sequences(input_sequence, maxlen=max_seq_length, padding='post')\n",
        "\n",
        "style_transferred_text = decode_sequence(padded_input_sequence)\n",
        "style_transferred_text\n",
        "#tokenizer.word_index['rbegin']\n"
      ]
    },
    {
      "cell_type": "code",
      "source": [
        "style_transferred_text"
      ],
      "metadata": {
        "id": "SAzyDcqZNRpr"
      },
      "execution_count": null,
      "outputs": []
    },
    {
      "cell_type": "code",
      "execution_count": null,
      "metadata": {
        "id": "G6IceBx34xPi",
        "colab": {
          "base_uri": "https://localhost:8080/",
          "height": 430
        },
        "outputId": "2b14f0f5-2439-4734-d5cc-6f5db32fdb75"
      },
      "outputs": [
        {
          "output_type": "display_data",
          "data": {
            "text/plain": [
              "<Figure size 640x480 with 1 Axes>"
            ],
            "image/png": "[encoded data removed]"
          },
          "metadata": {}
        }
      ],
      "source": [
        "from matplotlib import pyplot\n",
        "pyplot.plot(history.history['loss'], label='train')\n",
        "#pyplot.plot(history.history['val_loss'], label='test')\n",
        "pyplot.legend()\n",
        "pyplot.show()"
      ]
    },
    {
      "cell_type": "code",
      "execution_count": null,
      "metadata": {
        "id": "oy-bfQvXfl-M"
      },
      "outputs": [],
      "source": [
        "\n",
        "# mapping back from the outputted summary in tokenized form to word form\n",
        "reverse_target_word_index = y_tokenizer.index_word\n",
        "reverse_source_word_index = x_tokenizer.index_word\n",
        "target_word_index = y_tokenizer.word_index"
      ]
    },
    {
      "cell_type": "code",
      "execution_count": null,
      "metadata": {
        "id": "TguK-RM4f24d"
      },
      "outputs": [],
      "source": [
        "def seq2rephrase(input_seq):\n",
        "    newString=''\n",
        "    for i in input_seq:\n",
        "      if((i!=0 and i!=target_word_index['rbegin']) and i!=target_word_index['rend']):\n",
        "        newString=newString+reverse_target_word_index[i]+' '\n",
        "    return newString\n",
        "\n",
        "def seq2text(input_seq):\n",
        "    newString=''\n",
        "    for i in input_seq:\n",
        "      if(i!=0):\n",
        "        newString=newString+reverse_source_word_index[i]+' '\n",
        "    return newString\n"
      ]
    },
    {
      "cell_type": "code",
      "execution_count": null,
      "metadata": {
        "id": "iMtaSo-7f_lL"
      },
      "outputs": [],
      "source": [
        "for i in range(25, 26):\n",
        "  print(i)\n",
        "  print(\"Review:\",seq2text(x_tr[i]))\n",
        "  print(\"Original rephrase:\",seq2rephrase(y_tr[i]))\n",
        "  print(\"Predicted rephrase:\",decode_sequence(x_tr[i].reshape(1,max_seq_length)))\n",
        "  print(\"\\n\")"
      ]
    }
  ],
  "metadata": {
    "colab": {
      "provenance": []
    },
    "kernelspec": {
      "display_name": "Python 3",
      "name": "python3"
    },
    "language_info": {
      "name": "python"
    }
  },
  "nbformat": 4,
  "nbformat_minor": 0
}