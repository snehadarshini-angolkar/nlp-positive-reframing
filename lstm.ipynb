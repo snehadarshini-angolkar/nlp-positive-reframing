{
  "cells": [
    {
      "cell_type": "code",
      "execution_count": 10,
      "metadata": {
        "id": "qYeUO77dAoGE",
        "colab": {
          "base_uri": "https://localhost:8080/"
        },
        "outputId": "560e01f2-ee37-4cd3-c355-73d96cc9b7af"
      },
      "outputs": [
        {
          "output_type": "stream",
          "name": "stdout",
          "text": [
            "[==================================================] 100.0% 758.5/758.5MB downloaded\n"
          ]
        }
      ],
      "source": [
        "import pandas as pd\n",
        "import sys\n",
        "import numpy as np\n",
        "from matplotlib import pyplot as plot\n",
        "from sklearn.model_selection import train_test_split\n",
        "from keras.preprocessing.text import Tokenizer\n",
        "from keras.preprocessing.sequence import pad_sequences\n",
        "import gensim.downloader\n",
        "glove = gensim.downloader.load('glove-twitter-200')"
      ]
    },
    {
      "cell_type": "code",
      "execution_count": 11,
      "metadata": {
        "colab": {
          "base_uri": "https://localhost:8080/"
        },
        "id": "YJPMGIwVAb8f",
        "outputId": "aea3eeb1-e45a-4577-c30b-16f100165c21"
      },
      "outputs": [
        {
          "output_type": "stream",
          "name": "stdout",
          "text": [
            "Drive already mounted at /content/drive; to attempt to forcibly remount, call drive.mount(\"/content/drive\", force_remount=True).\n"
          ]
        }
      ],
      "source": [
        "from google.colab import drive\n",
        "drive.mount(\"/content/drive\")"
      ]
    },
    {
      "cell_type": "code",
      "execution_count": 12,
      "metadata": {
        "colab": {
          "base_uri": "https://localhost:8080/"
        },
        "id": "113rSSzVAuG4",
        "outputId": "a9bc9f6f-32d6-428c-b61b-7e29b725c5e9"
      },
      "outputs": [
        {
          "output_type": "stream",
          "name": "stdout",
          "text": [
            "                                                text  \\\n",
            "0  You may be stressed out, but your body doesn't...   \n",
            "1  Arghhh can't stand when tan goes patchy then i...   \n",
            "2  M4&M49 were bloody horrendous. Finally found m...   \n",
            "3  Life is just hard and harder when difficult pe...   \n",
            "4  I realize you're all trying to help me, but it...   \n",
            "\n",
            "                                            rephrase  \n",
            "0  I will be able to go through stress because I ...  \n",
            "1  Tanning can sometimes have unexpected results ...  \n",
            "2  Even though I am facing a hard time at least I...  \n",
            "3  Keep difficult people out of your life or you'...  \n",
            "4  I am happy to have people who care about me an...  \n"
          ]
        }
      ],
      "source": [
        "df1 = pd.read_csv(\"/content/drive/MyDrive/for_train.txt\", sep=\"\\t\", header=None, names=[\"text\", \"rephrase\"])\n",
        "print(df1.head())\n",
        "df = df1\n"
      ]
    },
    {
      "cell_type": "code",
      "execution_count": 13,
      "metadata": {
        "colab": {
          "base_uri": "https://localhost:8080/"
        },
        "id": "gKhLkVHN9P6_",
        "outputId": "96fad052-d225-4bf5-ce64-e5402222df32"
      },
      "outputs": [
        {
          "output_type": "stream",
          "name": "stderr",
          "text": [
            "<ipython-input-13-2aa0f4d9e1b8>:4: FutureWarning: The series.append method is deprecated and will be removed from pandas in a future version. Use pandas.concat instead.\n",
            "  all_texts =all_texts.append(df[\"rephrase\"])\n"
          ]
        }
      ],
      "source": [
        "len(df)\n",
        "#all_texts = df[\"text\"] + df[\"rephrase\"]\n",
        "all_texts = df[\"text\"]\n",
        "all_texts =all_texts.append(df[\"rephrase\"])"
      ]
    },
    {
      "cell_type": "code",
      "execution_count": 14,
      "metadata": {
        "colab": {
          "base_uri": "https://localhost:8080/"
        },
        "id": "YMsoyY0yISMq",
        "outputId": "58a40895-6b11-4785-c404-a7a4ca1cd76e"
      },
      "outputs": [
        {
          "output_type": "stream",
          "name": "stdout",
          "text": [
            "59\n"
          ]
        }
      ],
      "source": [
        "len(all_texts)\n",
        "tokenizer = Tokenizer()\n",
        "tokenizer.fit_on_texts(all_texts)\n",
        "sequences = tokenizer.texts_to_sequences(all_texts)\n",
        "max_seq_length = max(len(seq) for seq in sequences)\n",
        "print(max_seq_length)"
      ]
    },
    {
      "cell_type": "code",
      "execution_count": 15,
      "metadata": {
        "id": "tozI_mZLWHmV"
      },
      "outputs": [],
      "source": [
        "corpus_vec = []\n",
        "def getVectors(dataset):\n",
        "\n",
        "    for sentence in dataset:\n",
        "        sent_vector = []\n",
        "        count = 0;\n",
        "        for word in sentence:\n",
        "            count = count + 1;\n",
        "            if (word in glove):\n",
        "                vector = glove[word];\n",
        "                sent_vector.append(np.array(vector))\n",
        "        print(\"word\", count)\n",
        "        print(len(sent_vector))\n",
        "        corpus_vec.append(sent_vector)\n",
        "    return corpus_vec"
      ]
    },
    {
      "cell_type": "code",
      "execution_count": 15,
      "metadata": {
        "id": "cupAuv58BKcw"
      },
      "outputs": [],
      "source": []
    },
    {
      "cell_type": "code",
      "execution_count": 16,
      "metadata": {
        "id": "J-t5CyQuG6hi",
        "colab": {
          "base_uri": "https://localhost:8080/",
          "height": 204
        },
        "outputId": "c5523c4a-9e76-4ca2-eb07-df0394fadf1a"
      },
      "outputs": [
        {
          "output_type": "execute_result",
          "data": {
            "text/plain": [
              "                                                text  \\\n",
              "0  You may be stressed out, but your body doesn't...   \n",
              "1  Arghhh can't stand when tan goes patchy then i...   \n",
              "2  M4&M49 were bloody horrendous. Finally found m...   \n",
              "3  Life is just hard and harder when difficult pe...   \n",
              "4  I realize you're all trying to help me, but it...   \n",
              "\n",
              "                                            rephrase  \n",
              "0  rbegin I will be able to go through stress bec...  \n",
              "1  rbegin Tanning can sometimes have unexpected r...  \n",
              "2  rbegin Even though I am facing a hard time at ...  \n",
              "3  rbegin Keep difficult people out of your life ...  \n",
              "4  rbegin I am happy to have people who care abou...  "
            ],
            "text/html": [
              "\n",
              "  <div id=\"df-b8cb95a9-3103-4e43-bc53-40216667e2f2\" class=\"colab-df-container\">\n",
              "    <div>\n",
              "<style scoped>\n",
              "    .dataframe tbody tr th:only-of-type {\n",
              "        vertical-align: middle;\n",
              "    }\n",
              "\n",
              "    .dataframe tbody tr th {\n",
              "        vertical-align: top;\n",
              "    }\n",
              "\n",
              "    .dataframe thead th {\n",
              "        text-align: right;\n",
              "    }\n",
              "</style>\n",
              "<table border=\"1\" class=\"dataframe\">\n",
              "  <thead>\n",
              "    <tr style=\"text-align: right;\">\n",
              "      <th></th>\n",
              "      <th>text</th>\n",
              "      <th>rephrase</th>\n",
              "    </tr>\n",
              "  </thead>\n",
              "  <tbody>\n",
              "    <tr>\n",
              "      <th>0</th>\n",
              "      <td>You may be stressed out, but your body doesn't...</td>\n",
              "      <td>rbegin I will be able to go through stress bec...</td>\n",
              "    </tr>\n",
              "    <tr>\n",
              "      <th>1</th>\n",
              "      <td>Arghhh can't stand when tan goes patchy then i...</td>\n",
              "      <td>rbegin Tanning can sometimes have unexpected r...</td>\n",
              "    </tr>\n",
              "    <tr>\n",
              "      <th>2</th>\n",
              "      <td>M4&amp;M49 were bloody horrendous. Finally found m...</td>\n",
              "      <td>rbegin Even though I am facing a hard time at ...</td>\n",
              "    </tr>\n",
              "    <tr>\n",
              "      <th>3</th>\n",
              "      <td>Life is just hard and harder when difficult pe...</td>\n",
              "      <td>rbegin Keep difficult people out of your life ...</td>\n",
              "    </tr>\n",
              "    <tr>\n",
              "      <th>4</th>\n",
              "      <td>I realize you're all trying to help me, but it...</td>\n",
              "      <td>rbegin I am happy to have people who care abou...</td>\n",
              "    </tr>\n",
              "  </tbody>\n",
              "</table>\n",
              "</div>\n",
              "    <div class=\"colab-df-buttons\">\n",
              "\n",
              "  <div class=\"colab-df-container\">\n",
              "    <button class=\"colab-df-convert\" onclick=\"convertToInteractive('df-b8cb95a9-3103-4e43-bc53-40216667e2f2')\"\n",
              "            title=\"Convert this dataframe to an interactive table.\"\n",
              "            style=\"display:none;\">\n",
              "\n",
              "  <svg xmlns=\"http://www.w3.org/2000/svg\" height=\"24px\" viewBox=\"0 -960 960 960\">\n",
              "    <path d=\"M120-120v-720h720v720H120Zm60-500h600v-160H180v160Zm220 220h160v-160H400v160Zm0 220h160v-160H400v160ZM180-400h160v-160H180v160Zm440 0h160v-160H620v160ZM180-180h160v-160H180v160Zm440 0h160v-160H620v160Z\"/>\n",
              "  </svg>\n",
              "    </button>\n",
              "\n",
              "  <style>\n",
              "    .colab-df-container {\n",
              "      display:flex;\n",
              "      gap: 12px;\n",
              "    }\n",
              "\n",
              "    .colab-df-convert {\n",
              "      background-color: #E8F0FE;\n",
              "      border: none;\n",
              "      border-radius: 50%;\n",
              "      cursor: pointer;\n",
              "      display: none;\n",
              "      fill: #1967D2;\n",
              "      height: 32px;\n",
              "      padding: 0 0 0 0;\n",
              "      width: 32px;\n",
              "    }\n",
              "\n",
              "    .colab-df-convert:hover {\n",
              "      background-color: #E2EBFA;\n",
              "      box-shadow: 0px 1px 2px rgba(60, 64, 67, 0.3), 0px 1px 3px 1px rgba(60, 64, 67, 0.15);\n",
              "      fill: #174EA6;\n",
              "    }\n",
              "\n",
              "    .colab-df-buttons div {\n",
              "      margin-bottom: 4px;\n",
              "    }\n",
              "\n",
              "    [theme=dark] .colab-df-convert {\n",
              "      background-color: #3B4455;\n",
              "      fill: #D2E3FC;\n",
              "    }\n",
              "\n",
              "    [theme=dark] .colab-df-convert:hover {\n",
              "      background-color: #434B5C;\n",
              "      box-shadow: 0px 1px 3px 1px rgba(0, 0, 0, 0.15);\n",
              "      filter: drop-shadow(0px 1px 2px rgba(0, 0, 0, 0.3));\n",
              "      fill: #FFFFFF;\n",
              "    }\n",
              "  </style>\n",
              "\n",
              "    <script>\n",
              "      const buttonEl =\n",
              "        document.querySelector('#df-b8cb95a9-3103-4e43-bc53-40216667e2f2 button.colab-df-convert');\n",
              "      buttonEl.style.display =\n",
              "        google.colab.kernel.accessAllowed ? 'block' : 'none';\n",
              "\n",
              "      async function convertToInteractive(key) {\n",
              "        const element = document.querySelector('#df-b8cb95a9-3103-4e43-bc53-40216667e2f2');\n",
              "        const dataTable =\n",
              "          await google.colab.kernel.invokeFunction('convertToInteractive',\n",
              "                                                    [key], {});\n",
              "        if (!dataTable) return;\n",
              "\n",
              "        const docLinkHtml = 'Like what you see? Visit the ' +\n",
              "          '<a target=\"_blank\" href=https://colab.research.google.com/notebooks/data_table.ipynb>data table notebook</a>'\n",
              "          + ' to learn more about interactive tables.';\n",
              "        element.innerHTML = '';\n",
              "        dataTable['output_type'] = 'display_data';\n",
              "        await google.colab.output.renderOutput(dataTable, element);\n",
              "        const docLink = document.createElement('div');\n",
              "        docLink.innerHTML = docLinkHtml;\n",
              "        element.appendChild(docLink);\n",
              "      }\n",
              "    </script>\n",
              "  </div>\n",
              "\n",
              "\n",
              "<div id=\"df-8e281596-0b1d-4634-820c-2418b774fe1c\">\n",
              "  <button class=\"colab-df-quickchart\" onclick=\"quickchart('df-8e281596-0b1d-4634-820c-2418b774fe1c')\"\n",
              "            title=\"Suggest charts\"\n",
              "            style=\"display:none;\">\n",
              "\n",
              "<svg xmlns=\"http://www.w3.org/2000/svg\" height=\"24px\"viewBox=\"0 0 24 24\"\n",
              "     width=\"24px\">\n",
              "    <g>\n",
              "        <path d=\"M19 3H5c-1.1 0-2 .9-2 2v14c0 1.1.9 2 2 2h14c1.1 0 2-.9 2-2V5c0-1.1-.9-2-2-2zM9 17H7v-7h2v7zm4 0h-2V7h2v10zm4 0h-2v-4h2v4z\"/>\n",
              "    </g>\n",
              "</svg>\n",
              "  </button>\n",
              "\n",
              "<style>\n",
              "  .colab-df-quickchart {\n",
              "      --bg-color: #E8F0FE;\n",
              "      --fill-color: #1967D2;\n",
              "      --hover-bg-color: #E2EBFA;\n",
              "      --hover-fill-color: #174EA6;\n",
              "      --disabled-fill-color: #AAA;\n",
              "      --disabled-bg-color: #DDD;\n",
              "  }\n",
              "\n",
              "  [theme=dark] .colab-df-quickchart {\n",
              "      --bg-color: #3B4455;\n",
              "      --fill-color: #D2E3FC;\n",
              "      --hover-bg-color: #434B5C;\n",
              "      --hover-fill-color: #FFFFFF;\n",
              "      --disabled-bg-color: #3B4455;\n",
              "      --disabled-fill-color: #666;\n",
              "  }\n",
              "\n",
              "  .colab-df-quickchart {\n",
              "    background-color: var(--bg-color);\n",
              "    border: none;\n",
              "    border-radius: 50%;\n",
              "    cursor: pointer;\n",
              "    display: none;\n",
              "    fill: var(--fill-color);\n",
              "    height: 32px;\n",
              "    padding: 0;\n",
              "    width: 32px;\n",
              "  }\n",
              "\n",
              "  .colab-df-quickchart:hover {\n",
              "    background-color: var(--hover-bg-color);\n",
              "    box-shadow: 0 1px 2px rgba(60, 64, 67, 0.3), 0 1px 3px 1px rgba(60, 64, 67, 0.15);\n",
              "    fill: var(--button-hover-fill-color);\n",
              "  }\n",
              "\n",
              "  .colab-df-quickchart-complete:disabled,\n",
              "  .colab-df-quickchart-complete:disabled:hover {\n",
              "    background-color: var(--disabled-bg-color);\n",
              "    fill: var(--disabled-fill-color);\n",
              "    box-shadow: none;\n",
              "  }\n",
              "\n",
              "  .colab-df-spinner {\n",
              "    border: 2px solid var(--fill-color);\n",
              "    border-color: transparent;\n",
              "    border-bottom-color: var(--fill-color);\n",
              "    animation:\n",
              "      spin 1s steps(1) infinite;\n",
              "  }\n",
              "\n",
              "  @keyframes spin {\n",
              "    0% {\n",
              "      border-color: transparent;\n",
              "      border-bottom-color: var(--fill-color);\n",
              "      border-left-color: var(--fill-color);\n",
              "    }\n",
              "    20% {\n",
              "      border-color: transparent;\n",
              "      border-left-color: var(--fill-color);\n",
              "      border-top-color: var(--fill-color);\n",
              "    }\n",
              "    30% {\n",
              "      border-color: transparent;\n",
              "      border-left-color: var(--fill-color);\n",
              "      border-top-color: var(--fill-color);\n",
              "      border-right-color: var(--fill-color);\n",
              "    }\n",
              "    40% {\n",
              "      border-color: transparent;\n",
              "      border-right-color: var(--fill-color);\n",
              "      border-top-color: var(--fill-color);\n",
              "    }\n",
              "    60% {\n",
              "      border-color: transparent;\n",
              "      border-right-color: var(--fill-color);\n",
              "    }\n",
              "    80% {\n",
              "      border-color: transparent;\n",
              "      border-right-color: var(--fill-color);\n",
              "      border-bottom-color: var(--fill-color);\n",
              "    }\n",
              "    90% {\n",
              "      border-color: transparent;\n",
              "      border-bottom-color: var(--fill-color);\n",
              "    }\n",
              "  }\n",
              "</style>\n",
              "\n",
              "  <script>\n",
              "    async function quickchart(key) {\n",
              "      const quickchartButtonEl =\n",
              "        document.querySelector('#' + key + ' button');\n",
              "      quickchartButtonEl.disabled = true;  // To prevent multiple clicks.\n",
              "      quickchartButtonEl.classList.add('colab-df-spinner');\n",
              "      try {\n",
              "        const charts = await google.colab.kernel.invokeFunction(\n",
              "            'suggestCharts', [key], {});\n",
              "      } catch (error) {\n",
              "        console.error('Error during call to suggestCharts:', error);\n",
              "      }\n",
              "      quickchartButtonEl.classList.remove('colab-df-spinner');\n",
              "      quickchartButtonEl.classList.add('colab-df-quickchart-complete');\n",
              "    }\n",
              "    (() => {\n",
              "      let quickchartButtonEl =\n",
              "        document.querySelector('#df-8e281596-0b1d-4634-820c-2418b774fe1c button');\n",
              "      quickchartButtonEl.style.display =\n",
              "        google.colab.kernel.accessAllowed ? 'block' : 'none';\n",
              "    })();\n",
              "  </script>\n",
              "</div>\n",
              "    </div>\n",
              "  </div>\n"
            ]
          },
          "metadata": {},
          "execution_count": 16
        }
      ],
      "source": [
        "cleaned_text = np.array(df['text'])\n",
        "cleaned_rephrase= np.array(df['rephrase'])\n",
        "\n",
        "\n",
        "short_text = []\n",
        "short_summary = []\n",
        "\n",
        "# filters out articles and summaries that are too long. this is where improvement\n",
        "# could be made to include longer articles and just cut them off\n",
        "for i in range(len(cleaned_text)):\n",
        "    if len(cleaned_rephrase[i].split()) <= max_seq_length and len(cleaned_text[i].split()) <= max_seq_length:\n",
        "        short_text.append(cleaned_text[i])\n",
        "        short_summary.append(cleaned_rephrase[i])\n",
        "\n",
        "post_pre = pd.DataFrame({'text': short_text,'rephrase': short_summary})\n",
        "\n",
        "# Add tokens labeled 'rbegin' and 'rend' to guide autoencoder through its\n",
        "# rephrase generation\n",
        "post_pre['rephrase'] = post_pre['rephrase'].apply(lambda x: 'rbegin ' + x + ' rend')\n",
        "\n",
        "post_pre.head(5)"
      ]
    },
    {
      "cell_type": "code",
      "execution_count": 17,
      "metadata": {
        "id": "qxeX1AQxWIUI",
        "colab": {
          "base_uri": "https://localhost:8080/"
        },
        "outputId": "0c854131-645f-41e7-88b7-cb6ea7e8a6c3"
      },
      "outputs": [
        {
          "output_type": "stream",
          "name": "stderr",
          "text": [
            "<ipython-input-17-d10a33ba6289>:3: FutureWarning: The series.append method is deprecated and will be removed from pandas in a future version. Use pandas.concat instead.\n",
            "  all_texts1 =all_texts1.append(post_pre[\"rephrase\"])\n"
          ]
        },
        {
          "output_type": "stream",
          "name": "stdout",
          "text": [
            "59\n"
          ]
        }
      ],
      "source": [
        "tokenizer = Tokenizer()\n",
        "all_texts1 = post_pre[\"text\"]\n",
        "all_texts1 =all_texts1.append(post_pre[\"rephrase\"])\n",
        "tokenizer.fit_on_texts(all_texts1)\n",
        "sequences = tokenizer.texts_to_sequences(all_texts1)\n",
        "max_seq_length = max(len(seq) for seq in sequences)\n",
        "print(max_seq_length)"
      ]
    },
    {
      "cell_type": "code",
      "execution_count": 29,
      "metadata": {
        "id": "y4st4jEpAzKX"
      },
      "outputs": [],
      "source": [
        "from sklearn.model_selection import train_test_split\n",
        "\n",
        "x_tr, x_val, y_tr, y_val = train_test_split(\n",
        "    np.array(post_pre[\"text\"]),\n",
        "    np.array(post_pre[\"rephrase\"]),\n",
        "    test_size=0.2,\n",
        "    random_state=0,\n",
        "    shuffle=True,\n",
        ")\n"
      ]
    },
    {
      "cell_type": "code",
      "source": [],
      "metadata": {
        "id": "mAE7jYWTeCwW"
      },
      "execution_count": 21,
      "outputs": []
    },
    {
      "cell_type": "markdown",
      "source": [],
      "metadata": {
        "id": "sEF6HBWv-cIg"
      }
    },
    {
      "cell_type": "code",
      "execution_count": 31,
      "metadata": {
        "id": "gvZPYTFAB4OI"
      },
      "outputs": [],
      "source": [
        "text_sent_length = []\n",
        "x_word_set = []\n",
        "rephrase_sent_length = []\n",
        "y_word_set = []\n",
        "for i in df['text']:\n",
        "      text_sent_length.append(len(i.split()))\n",
        "      x_word_set.extend(i.split())\n",
        "for j in df['rephrase']:\n",
        "      rephrase_sent_length.append(len(j.split()))\n",
        "      y_word_set.extend(j.split())"
      ]
    },
    {
      "cell_type": "code",
      "execution_count": 32,
      "metadata": {
        "colab": {
          "base_uri": "https://localhost:8080/"
        },
        "id": "ifC6MbsRGbbu",
        "outputId": "2614649b-de67-4df9-f97e-977ac562f195"
      },
      "outputs": [
        {
          "output_type": "stream",
          "name": "stdout",
          "text": [
            "6827\n"
          ]
        }
      ],
      "source": [
        "x_vocab = pd.Series(x_word_set).drop_duplicates().tolist()\n",
        "y_vocab = pd.Series(y_word_set).drop_duplicates().tolist()\n",
        "print(len(x_vocab))"
      ]
    },
    {
      "cell_type": "code",
      "execution_count": 33,
      "metadata": {
        "id": "S-awgUZVHtlm"
      },
      "outputs": [],
      "source": [
        "x_tokenizer = Tokenizer(num_words = len(x_vocab))\n",
        "x_tokenizer.fit_on_texts(list(x_tr))"
      ]
    },
    {
      "cell_type": "code",
      "execution_count": 34,
      "metadata": {
        "colab": {
          "base_uri": "https://localhost:8080/"
        },
        "id": "L6pWWCfm5-Pm",
        "outputId": "da894605-85b4-4ffe-a635-82a9afa81c45"
      },
      "outputs": [
        {
          "output_type": "stream",
          "name": "stdout",
          "text": [
            "4485\n"
          ]
        }
      ],
      "source": [
        "print(len(y_vocab))"
      ]
    },
    {
      "cell_type": "code",
      "execution_count": 35,
      "metadata": {
        "id": "zla6tHBRH9Ek"
      },
      "outputs": [],
      "source": [
        "x_tr_seq = x_tokenizer.texts_to_sequences(x_tr)\n",
        "x_val_seq = x_tokenizer.texts_to_sequences(x_val)"
      ]
    },
    {
      "cell_type": "code",
      "execution_count": 36,
      "metadata": {
        "id": "MCmLDjfiNPAt"
      },
      "outputs": [],
      "source": [
        "x_tr = pad_sequences(x_tr_seq,  maxlen=max_seq_length, padding='post')\n",
        "x_val = pad_sequences(x_val_seq, maxlen=max_seq_length, padding='post')"
      ]
    },
    {
      "cell_type": "code",
      "execution_count": 37,
      "metadata": {
        "id": "LmJmE65ZQC1m"
      },
      "outputs": [],
      "source": [
        "x_voc = x_tokenizer.num_words + 1"
      ]
    },
    {
      "cell_type": "code",
      "execution_count": 38,
      "metadata": {
        "id": "h6cjzeJ8RTrL"
      },
      "outputs": [],
      "source": [
        "y_tokenizer = Tokenizer(num_words=len(y_vocab))\n",
        "y_tokenizer.fit_on_texts(list(y_tr))\n",
        "\n",
        "y_tr_seq = y_tokenizer.texts_to_sequences(y_tr)\n",
        "y_val_seq = y_tokenizer.texts_to_sequences(y_val)\n",
        "\n",
        "y_tr = pad_sequences(y_tr_seq, maxlen=max_seq_length, padding='post')\n",
        "y_val = pad_sequences(y_val_seq, maxlen=max_seq_length, padding='post')\n",
        "\n",
        "\n",
        "y_voc = y_tokenizer.num_words + 1"
      ]
    },
    {
      "cell_type": "code",
      "execution_count": 39,
      "metadata": {
        "colab": {
          "base_uri": "https://localhost:8080/"
        },
        "id": "dl7SW-4b-BD1",
        "outputId": "366689c0-fca8-482c-afbf-7957be199f66"
      },
      "outputs": [
        {
          "output_type": "execute_result",
          "data": {
            "text/plain": [
              "4486"
            ]
          },
          "metadata": {},
          "execution_count": 39
        }
      ],
      "source": [
        "y_voc"
      ]
    },
    {
      "cell_type": "code",
      "execution_count": 43,
      "metadata": {
        "id": "DB4-rsKkSnN9"
      },
      "outputs": [],
      "source": [
        "embedding_dim = 200\n",
        "latent_dim = 200"
      ]
    },
    {
      "cell_type": "code",
      "execution_count": 41,
      "metadata": {
        "id": "Mce2JsawUZNC"
      },
      "outputs": [],
      "source": [
        "from keras.callbacks import LambdaCallback\n",
        "from keras.models import Sequential\n",
        "from keras.layers import Dense, LSTM\n",
        "from keras.layers import Input, Embedding, TimeDistributed, RepeatVector, Concatenate\n",
        "from keras.models import Model\n",
        "import gensim.downloader\n",
        "glove = gensim.downloader.load('glove-twitter-200')"
      ]
    },
    {
      "cell_type": "code",
      "execution_count": 44,
      "metadata": {
        "id": "dmvL6iRU3a1z"
      },
      "outputs": [],
      "source": [
        "embedding_matrix = np.zeros((len(tokenizer.word_index) + 1, embedding_dim))\n",
        "for word, i in tokenizer.word_index.items():\n",
        "    if word in glove:\n",
        "      embedding_vector = glove[word]\n",
        "      if embedding_vector is not None:\n",
        "        embedding_matrix[i] = embedding_vector\n",
        "length = len(tokenizer.word_index) + 1"
      ]
    },
    {
      "cell_type": "code",
      "execution_count": null,
      "metadata": {
        "id": "tgtlvMBU3-G9"
      },
      "outputs": [],
      "source": [
        "\n",
        "encoder_input = Input(shape=(max_seq_length,))\n",
        "encoder_embedding = Embedding(input_dim=len(tokenizer.word_index) + 1, output_dim=embedding_dim, weights=[embedding_matrix], trainable=False)(encoder_input)\n",
        "encoder_lstm, state_h, state_c = LSTM(200, return_state=True, dropout=0.5, recurrent_dropout=0.5)(encoder_embedding)\n",
        "encoder_states = [state_h, state_c]\n",
        "\n",
        "\n",
        "decoder_input = Input(shape=(None,))\n",
        "decoder_embedding = Embedding(input_dim=len(tokenizer.word_index) + 1, output_dim=embedding_dim, weights=[embedding_matrix], trainable=False)(decoder_input)\n",
        "decoder_lstm = LSTM(200, return_sequences=True, return_state=True, dropout=0.5, recurrent_dropout=0.5)\n",
        "decoder_outputs, _, _ = decoder_lstm(decoder_embedding, initial_state=encoder_states)\n",
        "decoder_dense = Dense(len(tokenizer.word_index) + 1, activation='relu')\n",
        "decoder_outputs = decoder_dense(decoder_outputs)\n",
        "\n",
        "\n",
        "\n",
        "# Build the full model\n",
        "\n",
        "model = Model([encoder_input, decoder_input], decoder_outputs)\n",
        "model.compile(loss='sparse_categorical_crossentropy', optimizer='adam', metrics=['accuracy'])\n",
        "\n",
        "# Train the model\n",
        "#model.fit(x_tr, y_tr, epochs=10, verbose=0)\n",
        "history = model.fit([x_tr, y_tr], y_tr, epochs=3, batch_size=128, verbose=1)\n",
        "\n",
        "\n",
        "\n",
        "\n"
      ]
    },
    {
      "cell_type": "code",
      "execution_count": 48,
      "metadata": {
        "id": "DW-6rhDheuJY",
        "colab": {
          "base_uri": "https://localhost:8080/"
        },
        "outputId": "e06c45c0-03e4-440a-ac58-bbaf1a5b8453"
      },
      "outputs": [
        {
          "output_type": "stream",
          "name": "stdout",
          "text": [
            "Model: \"model_4\"\n",
            "__________________________________________________________________________________________________\n",
            " Layer (type)                Output Shape                 Param #   Connected to                  \n",
            "==================================================================================================\n",
            " input_7 (InputLayer)        [(None, None)]               0         []                            \n",
            "                                                                                                  \n",
            " embedding_3 (Embedding)     (None, None, 200)            1043200   ['input_7[0][0]']             \n",
            "                                                                                                  \n",
            " input_8 (InputLayer)        [(None, 200)]                0         []                            \n",
            "                                                                                                  \n",
            " input_9 (InputLayer)        [(None, 200)]                0         []                            \n",
            "                                                                                                  \n",
            " lstm_3 (LSTM)               [(None, None, 200),          320800    ['embedding_3[0][0]',         \n",
            "                              (None, 200),                           'input_8[0][0]',             \n",
            "                              (None, 200)]                           'input_9[0][0]']             \n",
            "                                                                                                  \n",
            " dense_1 (Dense)             (None, None, 5216)           1048416   ['lstm_3[1][0]']              \n",
            "                                                                                                  \n",
            "==================================================================================================\n",
            "Total params: 2412416 (9.20 MB)\n",
            "Trainable params: 1369216 (5.22 MB)\n",
            "Non-trainable params: 1043200 (3.98 MB)\n",
            "__________________________________________________________________________________________________\n"
          ]
        }
      ],
      "source": [
        "# encoder inference\n",
        "encoder_model = Model(inputs=encoder_input,outputs=[state_h, state_c])\n",
        "\n",
        "# decoder inference\n",
        "# Below tensors will hold the states of the previous time step\n",
        "decoder_state_input_h = Input(shape=(latent_dim,))\n",
        "decoder_state_input_c = Input(shape=(latent_dim,))\n",
        "decoder_hidden_state_input = Input(shape=(max_seq_length,latent_dim))\n",
        "decoder_states_inputs = [decoder_state_input_h, decoder_state_input_c]\n",
        "# Get the embeddings of the decoder sequence\n",
        "#dec_emb2= decoder_embedding(decoder_input)\n",
        "\n",
        "# To predict the next word in the sequence, set the initial states to the states from the previous time step\n",
        "decoder_outputs2, state_h2, state_c2 = decoder_lstm(decoder_embedding, initial_state=decoder_states_inputs)\n",
        "\n",
        "#attention inference\n",
        "#attn_out_inf, attn_states_inf = attn_layer([decoder_hidden_state_input, decoder_outputs2])\n",
        "#decoder_inf_concat = Concatenate(axis=-1, name='concat')([decoder_outputs2, attn_out_inf])\n",
        "\n",
        "# A dense softmax layer to generate prob dist. over the target vocabulary\n",
        "decoder_outputs3 = decoder_dense(decoder_outputs2)\n",
        "\n",
        "# Final decoder model\n",
        "decoder_model = Model(\n",
        "[decoder_input] + decoder_states_inputs,\n",
        "[decoder_outputs3] + [state_h2, state_c2])\n",
        "decoder_model.summary()"
      ]
    },
    {
      "cell_type": "code",
      "source": [
        "model.input[0]"
      ],
      "metadata": {
        "id": "-XVK5u0hybVL"
      },
      "execution_count": null,
      "outputs": []
    },
    {
      "cell_type": "code",
      "execution_count": null,
      "metadata": {
        "id": "RyLpYIvFWYo9"
      },
      "outputs": [],
      "source": []
    },
    {
      "cell_type": "code",
      "execution_count": 74,
      "metadata": {
        "id": "dzS0sv1ET5-i"
      },
      "outputs": [],
      "source": [
        "def decode_sequence(input_seq):\n",
        "    max_seq_length = 6\n",
        "    # Encode the input as state vectors.\n",
        "    states_value = encoder_model.predict(input_seq)\n",
        "    # Generate empty target sequence of length 1.\n",
        "    target_seq = np.zeros((1, 1))\n",
        "\n",
        "    # Populate the first character of target sequence with the start character.\n",
        "    target_seq[0, 0] = tokenizer.word_index['rbegin']  # Use the start token index\n",
        "    # Sampling loop for a batch of sequences\n",
        "    stop_condition = False\n",
        "    decoded_sentence = ''\n",
        "\n",
        "    while not stop_condition:\n",
        "        output_tokens, h, c = decoder_model.predict([target_seq] + states_value)\n",
        "\n",
        "        # Sample a token\n",
        "        sampled_token_index = np.argmax(output_tokens[0, -1, :])\n",
        "        sampled_word = \" \"\n",
        "        for word, index in tokenizer.word_index.items():\n",
        "            if index == sampled_token_index:\n",
        "                sampled_word = word\n",
        "                break\n",
        "\n",
        "        #if sampled_word is not None:\n",
        "        decoded_sentence += ' ' + sampled_word\n",
        "        print(decoded_sentence)\n",
        "        # Exit condition: either hit max length or find stop character.\n",
        "        if sampled_word == 'rend' or len(decoded_sentence.split()) >= max_seq_length:\n",
        "          stop_condition = True\n",
        "\n",
        "        # Update the target sequence (of length 1).\n",
        "        target_seq = np.zeros((1, 1))\n",
        "        target_seq[0, 0] = sampled_token_index\n",
        "        # Update states\n",
        "        states_value = [h, c]\n",
        "\n",
        "    return decoded_sentence"
      ]
    },
    {
      "cell_type": "code",
      "execution_count": 75,
      "metadata": {
        "id": "txZTM6InUSJM",
        "colab": {
          "base_uri": "https://localhost:8080/"
        },
        "outputId": "3d747835-06af-46d6-e1a8-f2b30e5f6829"
      },
      "outputs": [
        {
          "output_type": "stream",
          "name": "stdout",
          "text": [
            "1/1 [==============================] - 0s 66ms/step\n",
            "1/1 [==============================] - 0s 44ms/step\n",
            " to\n",
            "False\n",
            "1/1 [==============================] - 0s 42ms/step\n",
            " to to\n",
            "False\n",
            "1/1 [==============================] - 0s 39ms/step\n",
            " to to to\n",
            "False\n",
            "1/1 [==============================] - 0s 40ms/step\n",
            " to to to to\n",
            "False\n",
            "1/1 [==============================] - 0s 71ms/step\n",
            " to to to to to\n",
            "False\n",
            "1/1 [==============================] - 0s 37ms/step\n",
            " to to to to to to\n",
            "True\n"
          ]
        }
      ],
      "source": [
        "input_text = \"I dislike this product.\"\n",
        "input_sequence = tokenizer.texts_to_sequences([input_text])\n",
        "\n",
        "padded_input_sequence = pad_sequences(input_sequence, maxlen=max_seq_length, padding='post')\n",
        "#print(padded_input_sequence)\n",
        "style_transferred_text = decode_sequence(padded_input_sequence)\n",
        "#style_transferred_text\n",
        "#tokenizer.word_index['rbegin']\n"
      ]
    },
    {
      "cell_type": "code",
      "source": [
        "style_transferred_text"
      ],
      "metadata": {
        "id": "SAzyDcqZNRpr",
        "colab": {
          "base_uri": "https://localhost:8080/",
          "height": 35
        },
        "outputId": "b9c5bf56-3c0c-476a-ff14-87d380135246"
      },
      "execution_count": 76,
      "outputs": [
        {
          "output_type": "execute_result",
          "data": {
            "text/plain": [
              "' to to to to to to'"
            ],
            "application/vnd.google.colaboratory.intrinsic+json": {
              "type": "string"
            }
          },
          "metadata": {},
          "execution_count": 76
        }
      ]
    },
    {
      "cell_type": "code",
      "execution_count": 77,
      "metadata": {
        "id": "G6IceBx34xPi",
        "colab": {
          "base_uri": "https://localhost:8080/",
          "height": 430
        },
        "outputId": "857e18ba-5374-4050-cf42-9316262b3465"
      },
      "outputs": [
        {
          "output_type": "display_data",
          "data": {
            "text/plain": [
              "<Figure size 640x480 with 1 Axes>"
            ],
            "image/png": "[encoded data removed]"
          },
          "metadata": {}
        }
      ],
      "source": [
        "from matplotlib import pyplot\n",
        "pyplot.plot(history.history['loss'], label='train')\n",
        "#pyplot.plot(history.history['val_loss'], label='test')\n",
        "pyplot.legend()\n",
        "pyplot.show()"
      ]
    },
    {
      "cell_type": "code",
      "execution_count": null,
      "metadata": {
        "id": "oy-bfQvXfl-M"
      },
      "outputs": [],
      "source": [
        "\n",
        "# mapping back from the outputted rephrased senteence in tokenized form to word form\n",
        "reverse_target_word_index = y_tokenizer.index_word\n",
        "reverse_source_word_index = x_tokenizer.index_word\n",
        "target_word_index = y_tokenizer.word_index"
      ]
    },
    {
      "cell_type": "code",
      "execution_count": null,
      "metadata": {
        "id": "TguK-RM4f24d"
      },
      "outputs": [],
      "source": [
        "def seq2rephrase(input_seq):\n",
        "    newString=''\n",
        "    for i in input_seq:\n",
        "      if((i!=0 and i!=target_word_index['rbegin']) and i!=target_word_index['rend']):\n",
        "        newString=newString+reverse_target_word_index[i]+' '\n",
        "    return newString\n",
        "\n",
        "def seq2text(input_seq):\n",
        "    newString=''\n",
        "    for i in input_seq:\n",
        "      if(i!=0):\n",
        "        newString=newString+reverse_source_word_index[i]+' '\n",
        "    return newString\n"
      ]
    },
    {
      "cell_type": "code",
      "execution_count": null,
      "metadata": {
        "id": "iMtaSo-7f_lL"
      },
      "outputs": [],
      "source": [
        "for i in range(25, 26):\n",
        "  print(i)\n",
        "  print(\"Review:\",seq2text(x_tr[i]))\n",
        "  print(\"Original rephrase:\",seq2rephrase(y_tr[i]))\n",
        "  print(\"Predicted rephrase:\",decode_sequence(x_tr[i].reshape(1,max_seq_length)))\n",
        "  print(\"\\n\")"
      ]
    }
  ],
  "metadata": {
    "colab": {
      "provenance": []
    },
    "kernelspec": {
      "display_name": "Python 3",
      "name": "python3"
    },
    "language_info": {
      "name": "python"
    }
  },
  "nbformat": 4,
  "nbformat_minor": 0
}